{
 "cells": [
  {
   "cell_type": "markdown",
   "id": "tropical-ethnic",
   "metadata": {},
   "source": [
    "# ADS 502 Final Project\n",
    "# \n",
    "## Heart Failure Detection\n",
    "# \n",
    "### Team 4"
   ]
  },
  {
   "cell_type": "code",
   "execution_count": 580,
   "id": "blank-reasoning",
   "metadata": {},
   "outputs": [],
   "source": [
    "import warnings\n",
    "warnings.filterwarnings('ignore')"
   ]
  },
  {
   "cell_type": "code",
   "execution_count": 581,
   "id": "supported-retirement",
   "metadata": {},
   "outputs": [],
   "source": [
    "import random\n",
    "import numpy as np\n",
    "import pandas as pd\n",
    "import seaborn as sns\n",
    "import statsmodels.api as sm\n",
    "import matplotlib.pyplot as plt\n",
    "import statsmodels.tools.tools as stattools\n",
    "import statsmodels.stats.outliers_influence as inf\n",
    "\n",
    "from scipy import stats\n",
    "from sklearn.metrics import confusion_matrix\n",
    "from sklearn.ensemble import RandomForestClassifier\n",
    "from sklearn.model_selection import train_test_split\n",
    "from statsmodels.stats.outliers_influence import variance_inflation_factor\n",
    "from keras.models import Sequential\n",
    "from keras.layers import Dense\n",
    "#warnings.filterwarning(\"ignore\")"
   ]
  },
  {
   "cell_type": "code",
   "execution_count": 582,
   "id": "related-boards",
   "metadata": {},
   "outputs": [],
   "source": [
    "pd.set_option('display.max_columns', None)"
   ]
  },
  {
   "cell_type": "code",
   "execution_count": 583,
   "id": "entire-satellite",
   "metadata": {},
   "outputs": [
    {
     "data": {
      "text/html": [
       "<div>\n",
       "<style scoped>\n",
       "    .dataframe tbody tr th:only-of-type {\n",
       "        vertical-align: middle;\n",
       "    }\n",
       "\n",
       "    .dataframe tbody tr th {\n",
       "        vertical-align: top;\n",
       "    }\n",
       "\n",
       "    .dataframe thead th {\n",
       "        text-align: right;\n",
       "    }\n",
       "</style>\n",
       "<table border=\"1\" class=\"dataframe\">\n",
       "  <thead>\n",
       "    <tr style=\"text-align: right;\">\n",
       "      <th></th>\n",
       "      <th>age</th>\n",
       "      <th>anaemia</th>\n",
       "      <th>creatinine_phosphokinase</th>\n",
       "      <th>diabetes</th>\n",
       "      <th>ejection_fraction</th>\n",
       "      <th>high_blood_pressure</th>\n",
       "      <th>platelets</th>\n",
       "      <th>serum_creatinine</th>\n",
       "      <th>serum_sodium</th>\n",
       "      <th>sex</th>\n",
       "      <th>smoking</th>\n",
       "      <th>time</th>\n",
       "      <th>DEATH_EVENT</th>\n",
       "    </tr>\n",
       "  </thead>\n",
       "  <tbody>\n",
       "    <tr>\n",
       "      <th>0</th>\n",
       "      <td>75.0</td>\n",
       "      <td>0</td>\n",
       "      <td>582</td>\n",
       "      <td>0</td>\n",
       "      <td>20</td>\n",
       "      <td>1</td>\n",
       "      <td>265000.00</td>\n",
       "      <td>1.9</td>\n",
       "      <td>130</td>\n",
       "      <td>1</td>\n",
       "      <td>0</td>\n",
       "      <td>4</td>\n",
       "      <td>1</td>\n",
       "    </tr>\n",
       "    <tr>\n",
       "      <th>1</th>\n",
       "      <td>55.0</td>\n",
       "      <td>0</td>\n",
       "      <td>7861</td>\n",
       "      <td>0</td>\n",
       "      <td>38</td>\n",
       "      <td>0</td>\n",
       "      <td>263358.03</td>\n",
       "      <td>1.1</td>\n",
       "      <td>136</td>\n",
       "      <td>1</td>\n",
       "      <td>0</td>\n",
       "      <td>6</td>\n",
       "      <td>1</td>\n",
       "    </tr>\n",
       "    <tr>\n",
       "      <th>2</th>\n",
       "      <td>65.0</td>\n",
       "      <td>0</td>\n",
       "      <td>146</td>\n",
       "      <td>0</td>\n",
       "      <td>20</td>\n",
       "      <td>0</td>\n",
       "      <td>162000.00</td>\n",
       "      <td>1.3</td>\n",
       "      <td>129</td>\n",
       "      <td>1</td>\n",
       "      <td>1</td>\n",
       "      <td>7</td>\n",
       "      <td>1</td>\n",
       "    </tr>\n",
       "    <tr>\n",
       "      <th>3</th>\n",
       "      <td>50.0</td>\n",
       "      <td>1</td>\n",
       "      <td>111</td>\n",
       "      <td>0</td>\n",
       "      <td>20</td>\n",
       "      <td>0</td>\n",
       "      <td>210000.00</td>\n",
       "      <td>1.9</td>\n",
       "      <td>137</td>\n",
       "      <td>1</td>\n",
       "      <td>0</td>\n",
       "      <td>7</td>\n",
       "      <td>1</td>\n",
       "    </tr>\n",
       "    <tr>\n",
       "      <th>4</th>\n",
       "      <td>65.0</td>\n",
       "      <td>1</td>\n",
       "      <td>160</td>\n",
       "      <td>1</td>\n",
       "      <td>20</td>\n",
       "      <td>0</td>\n",
       "      <td>327000.00</td>\n",
       "      <td>2.7</td>\n",
       "      <td>116</td>\n",
       "      <td>0</td>\n",
       "      <td>0</td>\n",
       "      <td>8</td>\n",
       "      <td>1</td>\n",
       "    </tr>\n",
       "  </tbody>\n",
       "</table>\n",
       "</div>"
      ],
      "text/plain": [
       "    age  anaemia  creatinine_phosphokinase  diabetes  ejection_fraction  \\\n",
       "0  75.0        0                       582         0                 20   \n",
       "1  55.0        0                      7861         0                 38   \n",
       "2  65.0        0                       146         0                 20   \n",
       "3  50.0        1                       111         0                 20   \n",
       "4  65.0        1                       160         1                 20   \n",
       "\n",
       "   high_blood_pressure  platelets  serum_creatinine  serum_sodium  sex  \\\n",
       "0                    1  265000.00               1.9           130    1   \n",
       "1                    0  263358.03               1.1           136    1   \n",
       "2                    0  162000.00               1.3           129    1   \n",
       "3                    0  210000.00               1.9           137    1   \n",
       "4                    0  327000.00               2.7           116    0   \n",
       "\n",
       "   smoking  time  DEATH_EVENT  \n",
       "0        0     4            1  \n",
       "1        0     6            1  \n",
       "2        1     7            1  \n",
       "3        0     7            1  \n",
       "4        0     8            1  "
      ]
     },
     "execution_count": 583,
     "metadata": {},
     "output_type": "execute_result"
    }
   ],
   "source": [
    "url = 'https://raw.githubusercontent.com/dingyiduan7/ADS-502/main/ADS%20502%20Final_Project/heart_failure_clinical_records_dataset.csv'\n",
    "heart = pd.read_csv(url)\n",
    "heart.head()"
   ]
  },
  {
   "cell_type": "markdown",
   "id": "charged-reflection",
   "metadata": {},
   "source": [
    "### Exploratory Data Analysis (EDA)"
   ]
  },
  {
   "cell_type": "markdown",
   "id": "respiratory-guidance",
   "metadata": {},
   "source": [
    "Get a summary of the dataframe"
   ]
  },
  {
   "cell_type": "code",
   "execution_count": 584,
   "id": "suitable-atlanta",
   "metadata": {
    "scrolled": true
   },
   "outputs": [
    {
     "data": {
      "text/html": [
       "<div>\n",
       "<style scoped>\n",
       "    .dataframe tbody tr th:only-of-type {\n",
       "        vertical-align: middle;\n",
       "    }\n",
       "\n",
       "    .dataframe tbody tr th {\n",
       "        vertical-align: top;\n",
       "    }\n",
       "\n",
       "    .dataframe thead th {\n",
       "        text-align: right;\n",
       "    }\n",
       "</style>\n",
       "<table border=\"1\" class=\"dataframe\">\n",
       "  <thead>\n",
       "    <tr style=\"text-align: right;\">\n",
       "      <th></th>\n",
       "      <th>age</th>\n",
       "      <th>anaemia</th>\n",
       "      <th>creatinine_phosphokinase</th>\n",
       "      <th>diabetes</th>\n",
       "      <th>ejection_fraction</th>\n",
       "      <th>high_blood_pressure</th>\n",
       "      <th>platelets</th>\n",
       "      <th>serum_creatinine</th>\n",
       "      <th>serum_sodium</th>\n",
       "      <th>sex</th>\n",
       "      <th>smoking</th>\n",
       "      <th>time</th>\n",
       "      <th>DEATH_EVENT</th>\n",
       "    </tr>\n",
       "  </thead>\n",
       "  <tbody>\n",
       "    <tr>\n",
       "      <th>count</th>\n",
       "      <td>299.000000</td>\n",
       "      <td>299.000000</td>\n",
       "      <td>299.000000</td>\n",
       "      <td>299.000000</td>\n",
       "      <td>299.000000</td>\n",
       "      <td>299.000000</td>\n",
       "      <td>299.000000</td>\n",
       "      <td>299.00000</td>\n",
       "      <td>299.000000</td>\n",
       "      <td>299.000000</td>\n",
       "      <td>299.00000</td>\n",
       "      <td>299.000000</td>\n",
       "      <td>299.00000</td>\n",
       "    </tr>\n",
       "    <tr>\n",
       "      <th>mean</th>\n",
       "      <td>60.833893</td>\n",
       "      <td>0.431438</td>\n",
       "      <td>581.839465</td>\n",
       "      <td>0.418060</td>\n",
       "      <td>38.083612</td>\n",
       "      <td>0.351171</td>\n",
       "      <td>263358.029264</td>\n",
       "      <td>1.39388</td>\n",
       "      <td>136.625418</td>\n",
       "      <td>0.648829</td>\n",
       "      <td>0.32107</td>\n",
       "      <td>130.260870</td>\n",
       "      <td>0.32107</td>\n",
       "    </tr>\n",
       "    <tr>\n",
       "      <th>std</th>\n",
       "      <td>11.894809</td>\n",
       "      <td>0.496107</td>\n",
       "      <td>970.287881</td>\n",
       "      <td>0.494067</td>\n",
       "      <td>11.834841</td>\n",
       "      <td>0.478136</td>\n",
       "      <td>97804.236869</td>\n",
       "      <td>1.03451</td>\n",
       "      <td>4.412477</td>\n",
       "      <td>0.478136</td>\n",
       "      <td>0.46767</td>\n",
       "      <td>77.614208</td>\n",
       "      <td>0.46767</td>\n",
       "    </tr>\n",
       "    <tr>\n",
       "      <th>min</th>\n",
       "      <td>40.000000</td>\n",
       "      <td>0.000000</td>\n",
       "      <td>23.000000</td>\n",
       "      <td>0.000000</td>\n",
       "      <td>14.000000</td>\n",
       "      <td>0.000000</td>\n",
       "      <td>25100.000000</td>\n",
       "      <td>0.50000</td>\n",
       "      <td>113.000000</td>\n",
       "      <td>0.000000</td>\n",
       "      <td>0.00000</td>\n",
       "      <td>4.000000</td>\n",
       "      <td>0.00000</td>\n",
       "    </tr>\n",
       "    <tr>\n",
       "      <th>25%</th>\n",
       "      <td>51.000000</td>\n",
       "      <td>0.000000</td>\n",
       "      <td>116.500000</td>\n",
       "      <td>0.000000</td>\n",
       "      <td>30.000000</td>\n",
       "      <td>0.000000</td>\n",
       "      <td>212500.000000</td>\n",
       "      <td>0.90000</td>\n",
       "      <td>134.000000</td>\n",
       "      <td>0.000000</td>\n",
       "      <td>0.00000</td>\n",
       "      <td>73.000000</td>\n",
       "      <td>0.00000</td>\n",
       "    </tr>\n",
       "    <tr>\n",
       "      <th>50%</th>\n",
       "      <td>60.000000</td>\n",
       "      <td>0.000000</td>\n",
       "      <td>250.000000</td>\n",
       "      <td>0.000000</td>\n",
       "      <td>38.000000</td>\n",
       "      <td>0.000000</td>\n",
       "      <td>262000.000000</td>\n",
       "      <td>1.10000</td>\n",
       "      <td>137.000000</td>\n",
       "      <td>1.000000</td>\n",
       "      <td>0.00000</td>\n",
       "      <td>115.000000</td>\n",
       "      <td>0.00000</td>\n",
       "    </tr>\n",
       "    <tr>\n",
       "      <th>75%</th>\n",
       "      <td>70.000000</td>\n",
       "      <td>1.000000</td>\n",
       "      <td>582.000000</td>\n",
       "      <td>1.000000</td>\n",
       "      <td>45.000000</td>\n",
       "      <td>1.000000</td>\n",
       "      <td>303500.000000</td>\n",
       "      <td>1.40000</td>\n",
       "      <td>140.000000</td>\n",
       "      <td>1.000000</td>\n",
       "      <td>1.00000</td>\n",
       "      <td>203.000000</td>\n",
       "      <td>1.00000</td>\n",
       "    </tr>\n",
       "    <tr>\n",
       "      <th>max</th>\n",
       "      <td>95.000000</td>\n",
       "      <td>1.000000</td>\n",
       "      <td>7861.000000</td>\n",
       "      <td>1.000000</td>\n",
       "      <td>80.000000</td>\n",
       "      <td>1.000000</td>\n",
       "      <td>850000.000000</td>\n",
       "      <td>9.40000</td>\n",
       "      <td>148.000000</td>\n",
       "      <td>1.000000</td>\n",
       "      <td>1.00000</td>\n",
       "      <td>285.000000</td>\n",
       "      <td>1.00000</td>\n",
       "    </tr>\n",
       "  </tbody>\n",
       "</table>\n",
       "</div>"
      ],
      "text/plain": [
       "              age     anaemia  creatinine_phosphokinase    diabetes  \\\n",
       "count  299.000000  299.000000                299.000000  299.000000   \n",
       "mean    60.833893    0.431438                581.839465    0.418060   \n",
       "std     11.894809    0.496107                970.287881    0.494067   \n",
       "min     40.000000    0.000000                 23.000000    0.000000   \n",
       "25%     51.000000    0.000000                116.500000    0.000000   \n",
       "50%     60.000000    0.000000                250.000000    0.000000   \n",
       "75%     70.000000    1.000000                582.000000    1.000000   \n",
       "max     95.000000    1.000000               7861.000000    1.000000   \n",
       "\n",
       "       ejection_fraction  high_blood_pressure      platelets  \\\n",
       "count         299.000000           299.000000     299.000000   \n",
       "mean           38.083612             0.351171  263358.029264   \n",
       "std            11.834841             0.478136   97804.236869   \n",
       "min            14.000000             0.000000   25100.000000   \n",
       "25%            30.000000             0.000000  212500.000000   \n",
       "50%            38.000000             0.000000  262000.000000   \n",
       "75%            45.000000             1.000000  303500.000000   \n",
       "max            80.000000             1.000000  850000.000000   \n",
       "\n",
       "       serum_creatinine  serum_sodium         sex    smoking        time  \\\n",
       "count         299.00000    299.000000  299.000000  299.00000  299.000000   \n",
       "mean            1.39388    136.625418    0.648829    0.32107  130.260870   \n",
       "std             1.03451      4.412477    0.478136    0.46767   77.614208   \n",
       "min             0.50000    113.000000    0.000000    0.00000    4.000000   \n",
       "25%             0.90000    134.000000    0.000000    0.00000   73.000000   \n",
       "50%             1.10000    137.000000    1.000000    0.00000  115.000000   \n",
       "75%             1.40000    140.000000    1.000000    1.00000  203.000000   \n",
       "max             9.40000    148.000000    1.000000    1.00000  285.000000   \n",
       "\n",
       "       DEATH_EVENT  \n",
       "count    299.00000  \n",
       "mean       0.32107  \n",
       "std        0.46767  \n",
       "min        0.00000  \n",
       "25%        0.00000  \n",
       "50%        0.00000  \n",
       "75%        1.00000  \n",
       "max        1.00000  "
      ]
     },
     "execution_count": 584,
     "metadata": {},
     "output_type": "execute_result"
    }
   ],
   "source": [
    "heart.describe()"
   ]
  },
  {
   "cell_type": "markdown",
   "id": "spatial-leone",
   "metadata": {},
   "source": [
    "First, check for missing data"
   ]
  },
  {
   "cell_type": "code",
   "execution_count": 585,
   "id": "coral-deposit",
   "metadata": {
    "scrolled": true
   },
   "outputs": [
    {
     "data": {
      "text/plain": [
       "age                         0\n",
       "anaemia                     0\n",
       "creatinine_phosphokinase    0\n",
       "diabetes                    0\n",
       "ejection_fraction           0\n",
       "high_blood_pressure         0\n",
       "platelets                   0\n",
       "serum_creatinine            0\n",
       "serum_sodium                0\n",
       "sex                         0\n",
       "smoking                     0\n",
       "time                        0\n",
       "DEATH_EVENT                 0\n",
       "dtype: int64"
      ]
     },
     "execution_count": 585,
     "metadata": {},
     "output_type": "execute_result"
    }
   ],
   "source": [
    "heart.isnull().sum()"
   ]
  },
  {
   "cell_type": "markdown",
   "id": "sticky-holder",
   "metadata": {},
   "source": [
    "Use skewness of histogram and boxplot to check for outliers"
   ]
  },
  {
   "cell_type": "code",
   "execution_count": 586,
   "id": "blessed-concentrate",
   "metadata": {},
   "outputs": [
    {
     "data": {
      "text/plain": [
       "<AxesSubplot:ylabel='Frequency'>"
      ]
     },
     "execution_count": 586,
     "metadata": {},
     "output_type": "execute_result"
    },
    {
     "data": {
      "image/png": "[encoded data removed]",
      "text/plain": [
       "<Figure size 432x288 with 1 Axes>"
      ]
     },
     "metadata": {
      "needs_background": "light"
     },
     "output_type": "display_data"
    }
   ],
   "source": [
    "heart['age'].plot.hist()"
   ]
  },
  {
   "cell_type": "code",
   "execution_count": 587,
   "id": "governmental-briefing",
   "metadata": {},
   "outputs": [
    {
     "data": {
      "image/png": "[encoded data removed]",
      "text/plain": [
       "<Figure size 432x288 with 1 Axes>"
      ]
     },
     "metadata": {
      "needs_background": "light"
     },
     "output_type": "display_data"
    }
   ],
   "source": [
    "fig = plt.figure()\n",
    "boxplot = heart.boxplot(column=['age'])"
   ]
  },
  {
   "cell_type": "code",
   "execution_count": 588,
   "id": "loving-corrections",
   "metadata": {},
   "outputs": [
    {
     "data": {
      "text/plain": [
       "<AxesSubplot:ylabel='Frequency'>"
      ]
     },
     "execution_count": 588,
     "metadata": {},
     "output_type": "execute_result"
    },
    {
     "data": {
      "image/png": "[encoded data removed]",
      "text/plain": [
       "<Figure size 432x288 with 1 Axes>"
      ]
     },
     "metadata": {
      "needs_background": "light"
     },
     "output_type": "display_data"
    }
   ],
   "source": [
    "heart['anaemia'].plot.hist()"
   ]
  },
  {
   "cell_type": "code",
   "execution_count": 589,
   "id": "equivalent-brunei",
   "metadata": {},
   "outputs": [
    {
     "data": {
      "image/png": "[encoded data removed]",
      "text/plain": [
       "<Figure size 432x288 with 1 Axes>"
      ]
     },
     "metadata": {
      "needs_background": "light"
     },
     "output_type": "display_data"
    }
   ],
   "source": [
    "fig = plt.figure()\n",
    "boxplot = heart.boxplot(column=['anaemia'])"
   ]
  },
  {
   "cell_type": "code",
   "execution_count": 590,
   "id": "defensive-cruise",
   "metadata": {},
   "outputs": [
    {
     "data": {
      "text/plain": [
       "<AxesSubplot:ylabel='Frequency'>"
      ]
     },
     "execution_count": 590,
     "metadata": {},
     "output_type": "execute_result"
    },
    {
     "data": {
      "image/png": "[encoded data removed]",
      "text/plain": [
       "<Figure size 432x288 with 1 Axes>"
      ]
     },
     "metadata": {
      "needs_background": "light"
     },
     "output_type": "display_data"
    }
   ],
   "source": [
    "heart['creatinine_phosphokinase'].plot.hist()"
   ]
  },
  {
   "cell_type": "code",
   "execution_count": 591,
   "id": "english-acquisition",
   "metadata": {},
   "outputs": [
    {
     "data": {
      "image/png": "[encoded data removed]",
      "text/plain": [
       "<Figure size 432x288 with 1 Axes>"
      ]
     },
     "metadata": {
      "needs_background": "light"
     },
     "output_type": "display_data"
    }
   ],
   "source": [
    "fig = plt.figure()\n",
    "boxplot = heart.boxplot(column=['creatinine_phosphokinase'])"
   ]
  },
  {
   "cell_type": "code",
   "execution_count": 592,
   "id": "organic-console",
   "metadata": {},
   "outputs": [
    {
     "data": {
      "text/plain": [
       "<AxesSubplot:ylabel='Frequency'>"
      ]
     },
     "execution_count": 592,
     "metadata": {},
     "output_type": "execute_result"
    },
    {
     "data": {
      "image/png": "[encoded data removed]",
      "text/plain": [
       "<Figure size 432x288 with 1 Axes>"
      ]
     },
     "metadata": {
      "needs_background": "light"
     },
     "output_type": "display_data"
    }
   ],
   "source": [
    "heart['diabetes'].plot.hist()"
   ]
  },
  {
   "cell_type": "code",
   "execution_count": 593,
   "id": "offensive-rehabilitation",
   "metadata": {},
   "outputs": [
    {
     "data": {
      "image/png": "[encoded data removed]",
      "text/plain": [
       "<Figure size 432x288 with 1 Axes>"
      ]
     },
     "metadata": {
      "needs_background": "light"
     },
     "output_type": "display_data"
    }
   ],
   "source": [
    "fig = plt.figure()\n",
    "boxplot = heart.boxplot(column=['diabetes'])"
   ]
  },
  {
   "cell_type": "code",
   "execution_count": 594,
   "id": "distant-david",
   "metadata": {},
   "outputs": [
    {
     "data": {
      "text/plain": [
       "<AxesSubplot:ylabel='Frequency'>"
      ]
     },
     "execution_count": 594,
     "metadata": {},
     "output_type": "execute_result"
    },
    {
     "data": {
      "image/png": "[encoded data removed]",
      "text/plain": [
       "<Figure size 432x288 with 1 Axes>"
      ]
     },
     "metadata": {
      "needs_background": "light"
     },
     "output_type": "display_data"
    }
   ],
   "source": [
    "heart['ejection_fraction'].plot.hist()"
   ]
  },
  {
   "cell_type": "code",
   "execution_count": 595,
   "id": "nervous-nickel",
   "metadata": {},
   "outputs": [
    {
     "data": {
      "image/png": "[encoded data removed]",
      "text/plain": [
       "<Figure size 432x288 with 1 Axes>"
      ]
     },
     "metadata": {
      "needs_background": "light"
     },
     "output_type": "display_data"
    }
   ],
   "source": [
    "fig = plt.figure()\n",
    "boxplot = heart.boxplot(column=['ejection_fraction'])"
   ]
  },
  {
   "cell_type": "code",
   "execution_count": 596,
   "id": "studied-voluntary",
   "metadata": {},
   "outputs": [
    {
     "data": {
      "text/plain": [
       "<AxesSubplot:ylabel='Frequency'>"
      ]
     },
     "execution_count": 596,
     "metadata": {},
     "output_type": "execute_result"
    },
    {
     "data": {
      "image/png": "[encoded data removed]",
      "text/plain": [
       "<Figure size 432x288 with 1 Axes>"
      ]
     },
     "metadata": {
      "needs_background": "light"
     },
     "output_type": "display_data"
    }
   ],
   "source": [
    "heart['high_blood_pressure'].plot.hist()"
   ]
  },
  {
   "cell_type": "code",
   "execution_count": 597,
   "id": "serious-ukraine",
   "metadata": {},
   "outputs": [
    {
     "data": {
      "image/png": "[encoded data removed]",
      "text/plain": [
       "<Figure size 432x288 with 1 Axes>"
      ]
     },
     "metadata": {
      "needs_background": "light"
     },
     "output_type": "display_data"
    }
   ],
   "source": [
    "fig = plt.figure()\n",
    "boxplot = heart.boxplot(column=['high_blood_pressure'])"
   ]
  },
  {
   "cell_type": "code",
   "execution_count": 598,
   "id": "general-blogger",
   "metadata": {},
   "outputs": [
    {
     "data": {
      "text/plain": [
       "<AxesSubplot:ylabel='Frequency'>"
      ]
     },
     "execution_count": 598,
     "metadata": {},
     "output_type": "execute_result"
    },
    {
     "data": {
      "image/png": "[encoded data removed]",
      "text/plain": [
       "<Figure size 432x288 with 1 Axes>"
      ]
     },
     "metadata": {
      "needs_background": "light"
     },
     "output_type": "display_data"
    }
   ],
   "source": [
    "heart['platelets'].plot.hist()"
   ]
  },
  {
   "cell_type": "code",
   "execution_count": 599,
   "id": "outstanding-mississippi",
   "metadata": {},
   "outputs": [
    {
     "data": {
      "image/png": "[encoded data removed]",
      "text/plain": [
       "<Figure size 432x288 with 1 Axes>"
      ]
     },
     "metadata": {
      "needs_background": "light"
     },
     "output_type": "display_data"
    }
   ],
   "source": [
    "fig = plt.figure()\n",
    "boxplot = heart.boxplot(column=['platelets'])"
   ]
  },
  {
   "cell_type": "code",
   "execution_count": 600,
   "id": "descending-beach",
   "metadata": {},
   "outputs": [
    {
     "data": {
      "text/plain": [
       "<AxesSubplot:ylabel='Frequency'>"
      ]
     },
     "execution_count": 600,
     "metadata": {},
     "output_type": "execute_result"
    },
    {
     "data": {
      "image/png": "[encoded data removed]",
      "text/plain": [
       "<Figure size 432x288 with 1 Axes>"
      ]
     },
     "metadata": {
      "needs_background": "light"
     },
     "output_type": "display_data"
    }
   ],
   "source": [
    "heart['serum_creatinine'].plot.hist()"
   ]
  },
  {
   "cell_type": "code",
   "execution_count": 601,
   "id": "broke-andrew",
   "metadata": {},
   "outputs": [
    {
     "data": {
      "image/png": "[encoded data removed]",
      "text/plain": [
       "<Figure size 432x288 with 1 Axes>"
      ]
     },
     "metadata": {
      "needs_background": "light"
     },
     "output_type": "display_data"
    }
   ],
   "source": [
    "fig = plt.figure()\n",
    "boxplot = heart.boxplot(column=['serum_creatinine'])"
   ]
  },
  {
   "cell_type": "code",
   "execution_count": 602,
   "id": "touched-transformation",
   "metadata": {},
   "outputs": [
    {
     "data": {
      "text/plain": [
       "<AxesSubplot:ylabel='Frequency'>"
      ]
     },
     "execution_count": 602,
     "metadata": {},
     "output_type": "execute_result"
    },
    {
     "data": {
      "image/png": "[encoded data removed]",
      "text/plain": [
       "<Figure size 432x288 with 1 Axes>"
      ]
     },
     "metadata": {
      "needs_background": "light"
     },
     "output_type": "display_data"
    }
   ],
   "source": [
    "heart['serum_sodium'].plot.hist()"
   ]
  },
  {
   "cell_type": "code",
   "execution_count": 603,
   "id": "compatible-retirement",
   "metadata": {},
   "outputs": [
    {
     "data": {
      "image/png": "[encoded data removed]",
      "text/plain": [
       "<Figure size 432x288 with 1 Axes>"
      ]
     },
     "metadata": {
      "needs_background": "light"
     },
     "output_type": "display_data"
    }
   ],
   "source": [
    "fig = plt.figure()\n",
    "boxplot = heart.boxplot(column=['serum_sodium'])"
   ]
  },
  {
   "cell_type": "code",
   "execution_count": 604,
   "id": "intellectual-farmer",
   "metadata": {},
   "outputs": [
    {
     "data": {
      "text/plain": [
       "<AxesSubplot:ylabel='Frequency'>"
      ]
     },
     "execution_count": 604,
     "metadata": {},
     "output_type": "execute_result"
    },
    {
     "data": {
      "image/png": "[encoded data removed]",
      "text/plain": [
       "<Figure size 432x288 with 1 Axes>"
      ]
     },
     "metadata": {
      "needs_background": "light"
     },
     "output_type": "display_data"
    }
   ],
   "source": [
    "heart['sex'].plot.hist()"
   ]
  },
  {
   "cell_type": "code",
   "execution_count": 605,
   "id": "familiar-vessel",
   "metadata": {},
   "outputs": [
    {
     "data": {
      "image/png": "[encoded data removed]",
      "text/plain": [
       "<Figure size 432x288 with 1 Axes>"
      ]
     },
     "metadata": {
      "needs_background": "light"
     },
     "output_type": "display_data"
    }
   ],
   "source": [
    "fig = plt.figure()\n",
    "boxplot = heart.boxplot(column=['sex'])"
   ]
  },
  {
   "cell_type": "code",
   "execution_count": 606,
   "id": "pending-primary",
   "metadata": {},
   "outputs": [
    {
     "data": {
      "text/plain": [
       "<AxesSubplot:ylabel='Frequency'>"
      ]
     },
     "execution_count": 606,
     "metadata": {},
     "output_type": "execute_result"
    },
    {
     "data": {
      "image/png": "[encoded data removed]",
      "text/plain": [
       "<Figure size 432x288 with 1 Axes>"
      ]
     },
     "metadata": {
      "needs_background": "light"
     },
     "output_type": "display_data"
    }
   ],
   "source": [
    "heart['smoking'].plot.hist()"
   ]
  },
  {
   "cell_type": "code",
   "execution_count": 607,
   "id": "still-grant",
   "metadata": {},
   "outputs": [
    {
     "data": {
      "image/png": "[encoded data removed]",
      "text/plain": [
       "<Figure size 432x288 with 1 Axes>"
      ]
     },
     "metadata": {
      "needs_background": "light"
     },
     "output_type": "display_data"
    }
   ],
   "source": [
    "fig = plt.figure()\n",
    "boxplot = heart.boxplot(column=['smoking'])"
   ]
  },
  {
   "cell_type": "code",
   "execution_count": 608,
   "id": "opponent-radical",
   "metadata": {},
   "outputs": [
    {
     "data": {
      "text/plain": [
       "<AxesSubplot:ylabel='Frequency'>"
      ]
     },
     "execution_count": 608,
     "metadata": {},
     "output_type": "execute_result"
    },
    {
     "data": {
      "image/png": "[encoded data removed]",
      "text/plain": [
       "<Figure size 432x288 with 1 Axes>"
      ]
     },
     "metadata": {
      "needs_background": "light"
     },
     "output_type": "display_data"
    }
   ],
   "source": [
    "heart['time'].plot.hist()"
   ]
  },
  {
   "cell_type": "code",
   "execution_count": 609,
   "id": "rough-tenant",
   "metadata": {
    "scrolled": true
   },
   "outputs": [
    {
     "data": {
      "image/png": "[encoded data removed]",
      "text/plain": [
       "<Figure size 432x288 with 1 Axes>"
      ]
     },
     "metadata": {
      "needs_background": "light"
     },
     "output_type": "display_data"
    }
   ],
   "source": [
    "fig = plt.figure()\n",
    "boxplot = heart.boxplot(column=['time'])"
   ]
  },
  {
   "cell_type": "markdown",
   "id": "seasonal-courage",
   "metadata": {},
   "source": [
    "Based on the skewness and boxplot, we've decided to replace the outliers with median value in for these variables:\n",
    "#### creatinine_phosphokinase\n",
    "#### ejection_fraction\n",
    "#### platelets\n",
    "#### serum_creatinine\n",
    "#### serum_sodium"
   ]
  },
  {
   "cell_type": "markdown",
   "id": "presidential-cooperation",
   "metadata": {},
   "source": [
    "Make a subset of above variables"
   ]
  },
  {
   "cell_type": "code",
   "execution_count": 610,
   "id": "interim-fifty",
   "metadata": {},
   "outputs": [],
   "source": [
    "heart_var = heart[[\"creatinine_phosphokinase\", \"ejection_fraction\",\"platelets\",\"serum_creatinine\",\"serum_sodium\"]]"
   ]
  },
  {
   "cell_type": "code",
   "execution_count": 611,
   "id": "fossil-preserve",
   "metadata": {},
   "outputs": [
    {
     "data": {
      "text/html": [
       "<div>\n",
       "<style scoped>\n",
       "    .dataframe tbody tr th:only-of-type {\n",
       "        vertical-align: middle;\n",
       "    }\n",
       "\n",
       "    .dataframe tbody tr th {\n",
       "        vertical-align: top;\n",
       "    }\n",
       "\n",
       "    .dataframe thead th {\n",
       "        text-align: right;\n",
       "    }\n",
       "</style>\n",
       "<table border=\"1\" class=\"dataframe\">\n",
       "  <thead>\n",
       "    <tr style=\"text-align: right;\">\n",
       "      <th></th>\n",
       "      <th>age</th>\n",
       "      <th>anaemia</th>\n",
       "      <th>diabetes</th>\n",
       "      <th>high_blood_pressure</th>\n",
       "      <th>sex</th>\n",
       "      <th>smoking</th>\n",
       "      <th>time</th>\n",
       "      <th>DEATH_EVENT</th>\n",
       "    </tr>\n",
       "  </thead>\n",
       "  <tbody>\n",
       "    <tr>\n",
       "      <th>0</th>\n",
       "      <td>75.0</td>\n",
       "      <td>0</td>\n",
       "      <td>0</td>\n",
       "      <td>1</td>\n",
       "      <td>1</td>\n",
       "      <td>0</td>\n",
       "      <td>4</td>\n",
       "      <td>1</td>\n",
       "    </tr>\n",
       "    <tr>\n",
       "      <th>1</th>\n",
       "      <td>55.0</td>\n",
       "      <td>0</td>\n",
       "      <td>0</td>\n",
       "      <td>0</td>\n",
       "      <td>1</td>\n",
       "      <td>0</td>\n",
       "      <td>6</td>\n",
       "      <td>1</td>\n",
       "    </tr>\n",
       "    <tr>\n",
       "      <th>2</th>\n",
       "      <td>65.0</td>\n",
       "      <td>0</td>\n",
       "      <td>0</td>\n",
       "      <td>0</td>\n",
       "      <td>1</td>\n",
       "      <td>1</td>\n",
       "      <td>7</td>\n",
       "      <td>1</td>\n",
       "    </tr>\n",
       "    <tr>\n",
       "      <th>3</th>\n",
       "      <td>50.0</td>\n",
       "      <td>1</td>\n",
       "      <td>0</td>\n",
       "      <td>0</td>\n",
       "      <td>1</td>\n",
       "      <td>0</td>\n",
       "      <td>7</td>\n",
       "      <td>1</td>\n",
       "    </tr>\n",
       "    <tr>\n",
       "      <th>4</th>\n",
       "      <td>65.0</td>\n",
       "      <td>1</td>\n",
       "      <td>1</td>\n",
       "      <td>0</td>\n",
       "      <td>0</td>\n",
       "      <td>0</td>\n",
       "      <td>8</td>\n",
       "      <td>1</td>\n",
       "    </tr>\n",
       "  </tbody>\n",
       "</table>\n",
       "</div>"
      ],
      "text/plain": [
       "    age  anaemia  diabetes  high_blood_pressure  sex  smoking  time  \\\n",
       "0  75.0        0         0                    1    1        0     4   \n",
       "1  55.0        0         0                    0    1        0     6   \n",
       "2  65.0        0         0                    0    1        1     7   \n",
       "3  50.0        1         0                    0    1        0     7   \n",
       "4  65.0        1         1                    0    0        0     8   \n",
       "\n",
       "   DEATH_EVENT  \n",
       "0            1  \n",
       "1            1  \n",
       "2            1  \n",
       "3            1  \n",
       "4            1  "
      ]
     },
     "execution_count": 611,
     "metadata": {},
     "output_type": "execute_result"
    }
   ],
   "source": [
    "heart.drop([\"creatinine_phosphokinase\", \"ejection_fraction\",\"platelets\",\"serum_creatinine\",\"serum_sodium\"], axis=1, inplace=True)\n",
    "heart.head()"
   ]
  },
  {
   "cell_type": "code",
   "execution_count": 612,
   "id": "frozen-deadline",
   "metadata": {
    "scrolled": true
   },
   "outputs": [
    {
     "data": {
      "text/html": [
       "<div>\n",
       "<style scoped>\n",
       "    .dataframe tbody tr th:only-of-type {\n",
       "        vertical-align: middle;\n",
       "    }\n",
       "\n",
       "    .dataframe tbody tr th {\n",
       "        vertical-align: top;\n",
       "    }\n",
       "\n",
       "    .dataframe thead th {\n",
       "        text-align: right;\n",
       "    }\n",
       "</style>\n",
       "<table border=\"1\" class=\"dataframe\">\n",
       "  <thead>\n",
       "    <tr style=\"text-align: right;\">\n",
       "      <th></th>\n",
       "      <th>creatinine_phosphokinase</th>\n",
       "      <th>ejection_fraction</th>\n",
       "      <th>platelets</th>\n",
       "      <th>serum_creatinine</th>\n",
       "      <th>serum_sodium</th>\n",
       "    </tr>\n",
       "  </thead>\n",
       "  <tbody>\n",
       "    <tr>\n",
       "      <th>0</th>\n",
       "      <td>582</td>\n",
       "      <td>20</td>\n",
       "      <td>265000.00</td>\n",
       "      <td>1.9</td>\n",
       "      <td>130</td>\n",
       "    </tr>\n",
       "    <tr>\n",
       "      <th>1</th>\n",
       "      <td>7861</td>\n",
       "      <td>38</td>\n",
       "      <td>263358.03</td>\n",
       "      <td>1.1</td>\n",
       "      <td>136</td>\n",
       "    </tr>\n",
       "    <tr>\n",
       "      <th>2</th>\n",
       "      <td>146</td>\n",
       "      <td>20</td>\n",
       "      <td>162000.00</td>\n",
       "      <td>1.3</td>\n",
       "      <td>129</td>\n",
       "    </tr>\n",
       "    <tr>\n",
       "      <th>3</th>\n",
       "      <td>111</td>\n",
       "      <td>20</td>\n",
       "      <td>210000.00</td>\n",
       "      <td>1.9</td>\n",
       "      <td>137</td>\n",
       "    </tr>\n",
       "    <tr>\n",
       "      <th>4</th>\n",
       "      <td>160</td>\n",
       "      <td>20</td>\n",
       "      <td>327000.00</td>\n",
       "      <td>2.7</td>\n",
       "      <td>116</td>\n",
       "    </tr>\n",
       "  </tbody>\n",
       "</table>\n",
       "</div>"
      ],
      "text/plain": [
       "   creatinine_phosphokinase  ejection_fraction  platelets  serum_creatinine  \\\n",
       "0                       582                 20  265000.00               1.9   \n",
       "1                      7861                 38  263358.03               1.1   \n",
       "2                       146                 20  162000.00               1.3   \n",
       "3                       111                 20  210000.00               1.9   \n",
       "4                       160                 20  327000.00               2.7   \n",
       "\n",
       "   serum_sodium  \n",
       "0           130  \n",
       "1           136  \n",
       "2           129  \n",
       "3           137  \n",
       "4           116  "
      ]
     },
     "execution_count": 612,
     "metadata": {},
     "output_type": "execute_result"
    }
   ],
   "source": [
    "heart_var.head()"
   ]
  },
  {
   "cell_type": "markdown",
   "id": "human-garden",
   "metadata": {},
   "source": [
    "Replace outliers with median values"
   ]
  },
  {
   "cell_type": "code",
   "execution_count": 613,
   "id": "engaged-surname",
   "metadata": {},
   "outputs": [],
   "source": [
    "for col in heart_var:   \n",
    "    \n",
    "    q3 = np.percentile(heart_var[col], 75)\n",
    "    q1 = np.percentile(heart_var[col], 25)\n",
    "    iqr = q3 - q1\n",
    "    \n",
    "    lower = q1 -(1.5 * iqr) \n",
    "    upper = q3 +(1.5 * iqr)\n",
    "    \n",
    "    med = heart_var[col].median()\n",
    "\n",
    "    heart_var[col] = np.where((heart_var[col] >= upper), med ,heart_var[col]) \n",
    "    \n",
    "    heart_var[col] = np.where((heart_var[col] <= lower), med ,heart_var[col])"
   ]
  },
  {
   "cell_type": "code",
   "execution_count": 614,
   "id": "julian-pioneer",
   "metadata": {},
   "outputs": [],
   "source": [
    "heart = pd.concat([heart_var, heart], axis=1, join='inner')"
   ]
  },
  {
   "cell_type": "code",
   "execution_count": 615,
   "id": "desirable-running",
   "metadata": {
    "scrolled": true
   },
   "outputs": [
    {
     "data": {
      "text/html": [
       "<div>\n",
       "<style scoped>\n",
       "    .dataframe tbody tr th:only-of-type {\n",
       "        vertical-align: middle;\n",
       "    }\n",
       "\n",
       "    .dataframe tbody tr th {\n",
       "        vertical-align: top;\n",
       "    }\n",
       "\n",
       "    .dataframe thead th {\n",
       "        text-align: right;\n",
       "    }\n",
       "</style>\n",
       "<table border=\"1\" class=\"dataframe\">\n",
       "  <thead>\n",
       "    <tr style=\"text-align: right;\">\n",
       "      <th></th>\n",
       "      <th>creatinine_phosphokinase</th>\n",
       "      <th>ejection_fraction</th>\n",
       "      <th>platelets</th>\n",
       "      <th>serum_creatinine</th>\n",
       "      <th>serum_sodium</th>\n",
       "      <th>age</th>\n",
       "      <th>anaemia</th>\n",
       "      <th>diabetes</th>\n",
       "      <th>high_blood_pressure</th>\n",
       "      <th>sex</th>\n",
       "      <th>smoking</th>\n",
       "      <th>time</th>\n",
       "      <th>DEATH_EVENT</th>\n",
       "    </tr>\n",
       "  </thead>\n",
       "  <tbody>\n",
       "    <tr>\n",
       "      <th>0</th>\n",
       "      <td>582.0</td>\n",
       "      <td>20.0</td>\n",
       "      <td>265000.00</td>\n",
       "      <td>1.9</td>\n",
       "      <td>130.0</td>\n",
       "      <td>75.0</td>\n",
       "      <td>0</td>\n",
       "      <td>0</td>\n",
       "      <td>1</td>\n",
       "      <td>1</td>\n",
       "      <td>0</td>\n",
       "      <td>4</td>\n",
       "      <td>1</td>\n",
       "    </tr>\n",
       "    <tr>\n",
       "      <th>1</th>\n",
       "      <td>250.0</td>\n",
       "      <td>38.0</td>\n",
       "      <td>263358.03</td>\n",
       "      <td>1.1</td>\n",
       "      <td>136.0</td>\n",
       "      <td>55.0</td>\n",
       "      <td>0</td>\n",
       "      <td>0</td>\n",
       "      <td>0</td>\n",
       "      <td>1</td>\n",
       "      <td>0</td>\n",
       "      <td>6</td>\n",
       "      <td>1</td>\n",
       "    </tr>\n",
       "    <tr>\n",
       "      <th>2</th>\n",
       "      <td>146.0</td>\n",
       "      <td>20.0</td>\n",
       "      <td>162000.00</td>\n",
       "      <td>1.3</td>\n",
       "      <td>129.0</td>\n",
       "      <td>65.0</td>\n",
       "      <td>0</td>\n",
       "      <td>0</td>\n",
       "      <td>0</td>\n",
       "      <td>1</td>\n",
       "      <td>1</td>\n",
       "      <td>7</td>\n",
       "      <td>1</td>\n",
       "    </tr>\n",
       "    <tr>\n",
       "      <th>3</th>\n",
       "      <td>111.0</td>\n",
       "      <td>20.0</td>\n",
       "      <td>210000.00</td>\n",
       "      <td>1.9</td>\n",
       "      <td>137.0</td>\n",
       "      <td>50.0</td>\n",
       "      <td>1</td>\n",
       "      <td>0</td>\n",
       "      <td>0</td>\n",
       "      <td>1</td>\n",
       "      <td>0</td>\n",
       "      <td>7</td>\n",
       "      <td>1</td>\n",
       "    </tr>\n",
       "    <tr>\n",
       "      <th>4</th>\n",
       "      <td>160.0</td>\n",
       "      <td>20.0</td>\n",
       "      <td>327000.00</td>\n",
       "      <td>1.1</td>\n",
       "      <td>137.0</td>\n",
       "      <td>65.0</td>\n",
       "      <td>1</td>\n",
       "      <td>1</td>\n",
       "      <td>0</td>\n",
       "      <td>0</td>\n",
       "      <td>0</td>\n",
       "      <td>8</td>\n",
       "      <td>1</td>\n",
       "    </tr>\n",
       "  </tbody>\n",
       "</table>\n",
       "</div>"
      ],
      "text/plain": [
       "   creatinine_phosphokinase  ejection_fraction  platelets  serum_creatinine  \\\n",
       "0                     582.0               20.0  265000.00               1.9   \n",
       "1                     250.0               38.0  263358.03               1.1   \n",
       "2                     146.0               20.0  162000.00               1.3   \n",
       "3                     111.0               20.0  210000.00               1.9   \n",
       "4                     160.0               20.0  327000.00               1.1   \n",
       "\n",
       "   serum_sodium   age  anaemia  diabetes  high_blood_pressure  sex  smoking  \\\n",
       "0         130.0  75.0        0         0                    1    1        0   \n",
       "1         136.0  55.0        0         0                    0    1        0   \n",
       "2         129.0  65.0        0         0                    0    1        1   \n",
       "3         137.0  50.0        1         0                    0    1        0   \n",
       "4         137.0  65.0        1         1                    0    0        0   \n",
       "\n",
       "   time  DEATH_EVENT  \n",
       "0     4            1  \n",
       "1     6            1  \n",
       "2     7            1  \n",
       "3     7            1  \n",
       "4     8            1  "
      ]
     },
     "execution_count": 615,
     "metadata": {},
     "output_type": "execute_result"
    }
   ],
   "source": [
    "heart.head()"
   ]
  },
  {
   "cell_type": "markdown",
   "id": "fallen-principal",
   "metadata": {},
   "source": [
    "Check for outliers again"
   ]
  },
  {
   "cell_type": "code",
   "execution_count": 616,
   "id": "accessory-engine",
   "metadata": {},
   "outputs": [
    {
     "data": {
      "image/png": "[encoded data removed]",
      "text/plain": [
       "<Figure size 432x288 with 1 Axes>"
      ]
     },
     "metadata": {
      "needs_background": "light"
     },
     "output_type": "display_data"
    }
   ],
   "source": [
    "fig = plt.figure()\n",
    "boxplot = heart.boxplot(column=['creatinine_phosphokinase'])"
   ]
  },
  {
   "cell_type": "code",
   "execution_count": 617,
   "id": "stainless-interim",
   "metadata": {},
   "outputs": [
    {
     "data": {
      "image/png": "[encoded data removed]",
      "text/plain": [
       "<Figure size 432x288 with 1 Axes>"
      ]
     },
     "metadata": {
      "needs_background": "light"
     },
     "output_type": "display_data"
    }
   ],
   "source": [
    "fig = plt.figure()\n",
    "boxplot = heart.boxplot(column=['ejection_fraction'])"
   ]
  },
  {
   "cell_type": "code",
   "execution_count": 618,
   "id": "satellite-project",
   "metadata": {},
   "outputs": [
    {
     "data": {
      "image/png": "[encoded data removed]",
      "text/plain": [
       "<Figure size 432x288 with 1 Axes>"
      ]
     },
     "metadata": {
      "needs_background": "light"
     },
     "output_type": "display_data"
    }
   ],
   "source": [
    "fig = plt.figure()\n",
    "boxplot = heart.boxplot(column=['platelets'])"
   ]
  },
  {
   "cell_type": "code",
   "execution_count": 619,
   "id": "common-drunk",
   "metadata": {},
   "outputs": [
    {
     "data": {
      "image/png": "[encoded data removed]",
      "text/plain": [
       "<Figure size 432x288 with 1 Axes>"
      ]
     },
     "metadata": {
      "needs_background": "light"
     },
     "output_type": "display_data"
    }
   ],
   "source": [
    "fig = plt.figure()\n",
    "boxplot = heart.boxplot(column=['serum_creatinine'])"
   ]
  },
  {
   "cell_type": "code",
   "execution_count": 620,
   "id": "liable-telephone",
   "metadata": {},
   "outputs": [
    {
     "data": {
      "image/png": "[encoded data removed]",
      "text/plain": [
       "<Figure size 432x288 with 1 Axes>"
      ]
     },
     "metadata": {
      "needs_background": "light"
     },
     "output_type": "display_data"
    }
   ],
   "source": [
    "fig = plt.figure()\n",
    "boxplot = heart.boxplot(column=['serum_sodium'])"
   ]
  },
  {
   "cell_type": "markdown",
   "id": "upper-cooler",
   "metadata": {},
   "source": [
    "Use barchart to look at the relationships between categorical features and DEATH_EVENT. Categorical features include:\n",
    "#### anaemia\n",
    "#### diabetes\n",
    "#### high_blood_pressure\n",
    "#### sex\n",
    "#### smoking"
   ]
  },
  {
   "cell_type": "markdown",
   "id": "maritime-candidate",
   "metadata": {},
   "source": [
    "#### Normally, for categorical data, the values should be strings instead of '0' and '1'. If then we would perform add dummy variables so the attributes can be used for model building. But the dataset comes in binary format, so we skip that step."
   ]
  },
  {
   "cell_type": "markdown",
   "id": "velvet-metadata",
   "metadata": {},
   "source": [
    "Raw barcharts vs Normalized barcharts"
   ]
  },
  {
   "cell_type": "code",
   "execution_count": 621,
   "id": "monthly-nebraska",
   "metadata": {},
   "outputs": [
    {
     "data": {
      "text/plain": [
       "<AxesSubplot:xlabel='anaemia'>"
      ]
     },
     "execution_count": 621,
     "metadata": {},
     "output_type": "execute_result"
    },
    {
     "data": {
      "image/png": "[encoded data removed]",
      "text/plain": [
       "<Figure size 432x288 with 1 Axes>"
      ]
     },
     "metadata": {
      "needs_background": "light"
     },
     "output_type": "display_data"
    }
   ],
   "source": [
    "crosstab_anaemia = pd.crosstab(heart['anaemia'], heart['DEATH_EVENT'])\n",
    "crosstab_anaemia.plot(kind='bar', stacked = True)"
   ]
  },
  {
   "cell_type": "code",
   "execution_count": 622,
   "id": "greek-model",
   "metadata": {},
   "outputs": [
    {
     "data": {
      "text/plain": [
       "<AxesSubplot:xlabel='anaemia'>"
      ]
     },
     "execution_count": 622,
     "metadata": {},
     "output_type": "execute_result"
    },
    {
     "data": {
      "image/png": "[encoded data removed]",
      "text/plain": [
       "<Figure size 432x288 with 1 Axes>"
      ]
     },
     "metadata": {
      "needs_background": "light"
     },
     "output_type": "display_data"
    }
   ],
   "source": [
    "crosstab_norm_anaemia = crosstab_anaemia.div(crosstab_anaemia.sum(axis=1), axis = 0)\n",
    "crosstab_norm_anaemia.plot(kind='bar', stacked = True)"
   ]
  },
  {
   "cell_type": "code",
   "execution_count": 623,
   "id": "appreciated-moderator",
   "metadata": {},
   "outputs": [
    {
     "data": {
      "text/plain": [
       "<AxesSubplot:xlabel='diabetes'>"
      ]
     },
     "execution_count": 623,
     "metadata": {},
     "output_type": "execute_result"
    },
    {
     "data": {
      "image/png": "[encoded data removed]",
      "text/plain": [
       "<Figure size 432x288 with 1 Axes>"
      ]
     },
     "metadata": {
      "needs_background": "light"
     },
     "output_type": "display_data"
    }
   ],
   "source": [
    "crosstab_diabetes = pd.crosstab(heart['diabetes'], heart['DEATH_EVENT'])\n",
    "crosstab_diabetes.plot(kind='bar', stacked = True)"
   ]
  },
  {
   "cell_type": "code",
   "execution_count": 624,
   "id": "spread-seven",
   "metadata": {},
   "outputs": [
    {
     "data": {
      "text/plain": [
       "<AxesSubplot:xlabel='diabetes'>"
      ]
     },
     "execution_count": 624,
     "metadata": {},
     "output_type": "execute_result"
    },
    {
     "data": {
      "image/png": "[encoded data removed]",
      "text/plain": [
       "<Figure size 432x288 with 1 Axes>"
      ]
     },
     "metadata": {
      "needs_background": "light"
     },
     "output_type": "display_data"
    }
   ],
   "source": [
    "crosstab_norm_diabetes = crosstab_diabetes.div(crosstab_diabetes.sum(axis=1), axis = 0)\n",
    "crosstab_norm_diabetes.plot(kind='bar', stacked = True)"
   ]
  },
  {
   "cell_type": "code",
   "execution_count": 625,
   "id": "determined-elimination",
   "metadata": {},
   "outputs": [
    {
     "data": {
      "text/plain": [
       "<AxesSubplot:xlabel='high_blood_pressure'>"
      ]
     },
     "execution_count": 625,
     "metadata": {},
     "output_type": "execute_result"
    },
    {
     "data": {
      "image/png": "[encoded data removed]",
      "text/plain": [
       "<Figure size 432x288 with 1 Axes>"
      ]
     },
     "metadata": {
      "needs_background": "light"
     },
     "output_type": "display_data"
    }
   ],
   "source": [
    "crosstab_high_blood_pressure = pd.crosstab(heart['high_blood_pressure'], heart['DEATH_EVENT'])\n",
    "crosstab_high_blood_pressure.plot(kind='bar', stacked = True)"
   ]
  },
  {
   "cell_type": "code",
   "execution_count": 626,
   "id": "frequent-level",
   "metadata": {},
   "outputs": [
    {
     "data": {
      "text/plain": [
       "<AxesSubplot:xlabel='high_blood_pressure'>"
      ]
     },
     "execution_count": 626,
     "metadata": {},
     "output_type": "execute_result"
    },
    {
     "data": {
      "image/png": "[encoded data removed]",
      "text/plain": [
       "<Figure size 432x288 with 1 Axes>"
      ]
     },
     "metadata": {
      "needs_background": "light"
     },
     "output_type": "display_data"
    }
   ],
   "source": [
    "crosstab_norm_high_blood_pressure = crosstab_high_blood_pressure.div(crosstab_high_blood_pressure.sum(axis=1), axis = 0)\n",
    "crosstab_norm_high_blood_pressure.plot(kind='bar', stacked = True)"
   ]
  },
  {
   "cell_type": "code",
   "execution_count": 627,
   "id": "vocational-portrait",
   "metadata": {},
   "outputs": [
    {
     "data": {
      "text/plain": [
       "<AxesSubplot:xlabel='sex'>"
      ]
     },
     "execution_count": 627,
     "metadata": {},
     "output_type": "execute_result"
    },
    {
     "data": {
      "image/png": "[encoded data removed]",
      "text/plain": [
       "<Figure size 432x288 with 1 Axes>"
      ]
     },
     "metadata": {
      "needs_background": "light"
     },
     "output_type": "display_data"
    }
   ],
   "source": [
    "crosstab_sex = pd.crosstab(heart['sex'], heart['DEATH_EVENT'])\n",
    "crosstab_sex.plot(kind='bar', stacked = True)"
   ]
  },
  {
   "cell_type": "code",
   "execution_count": 628,
   "id": "experienced-transparency",
   "metadata": {},
   "outputs": [
    {
     "data": {
      "text/plain": [
       "<AxesSubplot:xlabel='sex'>"
      ]
     },
     "execution_count": 628,
     "metadata": {},
     "output_type": "execute_result"
    },
    {
     "data": {
      "image/png": "[encoded data removed]",
      "text/plain": [
       "<Figure size 432x288 with 1 Axes>"
      ]
     },
     "metadata": {
      "needs_background": "light"
     },
     "output_type": "display_data"
    }
   ],
   "source": [
    "crosstab_norm_sex = crosstab_sex.div(crosstab_sex.sum(axis=1), axis = 0)\n",
    "crosstab_norm_sex.plot(kind='bar', stacked = True)"
   ]
  },
  {
   "cell_type": "code",
   "execution_count": 629,
   "id": "acute-river",
   "metadata": {},
   "outputs": [
    {
     "data": {
      "text/plain": [
       "<AxesSubplot:xlabel='smoking'>"
      ]
     },
     "execution_count": 629,
     "metadata": {},
     "output_type": "execute_result"
    },
    {
     "data": {
      "image/png": "[encoded data removed]",
      "text/plain": [
       "<Figure size 432x288 with 1 Axes>"
      ]
     },
     "metadata": {
      "needs_background": "light"
     },
     "output_type": "display_data"
    }
   ],
   "source": [
    "crosstab_smoking = pd.crosstab(heart['smoking'], heart['DEATH_EVENT'])\n",
    "crosstab_smoking.plot(kind='bar', stacked = True)"
   ]
  },
  {
   "cell_type": "code",
   "execution_count": 630,
   "id": "deluxe-fight",
   "metadata": {},
   "outputs": [
    {
     "data": {
      "text/plain": [
       "<AxesSubplot:xlabel='smoking'>"
      ]
     },
     "execution_count": 630,
     "metadata": {},
     "output_type": "execute_result"
    },
    {
     "data": {
      "image/png": "[encoded data removed]",
      "text/plain": [
       "<Figure size 432x288 with 1 Axes>"
      ]
     },
     "metadata": {
      "needs_background": "light"
     },
     "output_type": "display_data"
    }
   ],
   "source": [
    "crosstab_norm_smoking = crosstab_smoking.div(crosstab_smoking.sum(axis=1), axis = 0)\n",
    "crosstab_norm_smoking.plot(kind='bar', stacked = True)"
   ]
  },
  {
   "cell_type": "markdown",
   "id": "least-aside",
   "metadata": {},
   "source": [
    "From the above barcharts we can tell that besides having anaemia and high blood pressure is more likely to cause death; the rest of attributes does not necessarily indicate a death event."
   ]
  },
  {
   "cell_type": "markdown",
   "id": "focal-volleyball",
   "metadata": {},
   "source": [
    "#### Check for multicollinearity."
   ]
  },
  {
   "cell_type": "code",
   "execution_count": 631,
   "id": "other-process",
   "metadata": {},
   "outputs": [],
   "source": [
    "X = pd.DataFrame(heart[['creatinine_phosphokinase','ejection_fraction','platelets','serum_creatinine',\n",
    "                       'serum_sodium','age','anaemia','diabetes','high_blood_pressure','sex','smoking','time']])"
   ]
  },
  {
   "cell_type": "code",
   "execution_count": 632,
   "id": "organic-transformation",
   "metadata": {
    "scrolled": true
   },
   "outputs": [
    {
     "data": {
      "text/plain": [
       "[Text(0.5, 0, 'creatinine_phosphokinase'),\n",
       " Text(1.5, 0, 'ejection_fraction'),\n",
       " Text(2.5, 0, 'platelets'),\n",
       " Text(3.5, 0, 'serum_creatinine'),\n",
       " Text(4.5, 0, 'serum_sodium'),\n",
       " Text(5.5, 0, 'age'),\n",
       " Text(6.5, 0, 'anaemia'),\n",
       " Text(7.5, 0, 'diabetes'),\n",
       " Text(8.5, 0, 'high_blood_pressure'),\n",
       " Text(9.5, 0, 'sex'),\n",
       " Text(10.5, 0, 'smoking'),\n",
       " Text(11.5, 0, 'time')]"
      ]
     },
     "execution_count": 632,
     "metadata": {},
     "output_type": "execute_result"
    },
    {
     "data": {
      "image/png": "[encoded data removed]",
      "text/plain": [
       "<Figure size 432x288 with 2 Axes>"
      ]
     },
     "metadata": {
      "needs_background": "light"
     },
     "output_type": "display_data"
    }
   ],
   "source": [
    "corr = X.corr(method='pearson')\n",
    "ax = sns.heatmap(\n",
    "    corr, \n",
    "    vmin=-1, vmax=1, center=0,\n",
    "    cmap=sns.diverging_palette(20, 220, n=200),\n",
    "    square=True\n",
    ")\n",
    "ax.set_xticklabels(\n",
    "    ax.get_xticklabels(),\n",
    "    rotation=45,\n",
    "    horizontalalignment='right'\n",
    ")"
   ]
  },
  {
   "cell_type": "code",
   "execution_count": 633,
   "id": "lesser-sweden",
   "metadata": {
    "scrolled": true
   },
   "outputs": [
    {
     "data": {
      "text/html": [
       "<div>\n",
       "<style scoped>\n",
       "    .dataframe tbody tr th:only-of-type {\n",
       "        vertical-align: middle;\n",
       "    }\n",
       "\n",
       "    .dataframe tbody tr th {\n",
       "        vertical-align: top;\n",
       "    }\n",
       "\n",
       "    .dataframe thead th {\n",
       "        text-align: right;\n",
       "    }\n",
       "</style>\n",
       "<table border=\"1\" class=\"dataframe\">\n",
       "  <thead>\n",
       "    <tr style=\"text-align: right;\">\n",
       "      <th></th>\n",
       "      <th>creatinine_phosphokinase</th>\n",
       "      <th>ejection_fraction</th>\n",
       "      <th>platelets</th>\n",
       "      <th>serum_creatinine</th>\n",
       "      <th>serum_sodium</th>\n",
       "      <th>age</th>\n",
       "      <th>anaemia</th>\n",
       "      <th>diabetes</th>\n",
       "      <th>high_blood_pressure</th>\n",
       "      <th>sex</th>\n",
       "      <th>smoking</th>\n",
       "      <th>time</th>\n",
       "    </tr>\n",
       "  </thead>\n",
       "  <tbody>\n",
       "    <tr>\n",
       "      <th>creatinine_phosphokinase</th>\n",
       "      <td>1.000000</td>\n",
       "      <td>-0.067257</td>\n",
       "      <td>0.004120</td>\n",
       "      <td>0.111241</td>\n",
       "      <td>-0.069762</td>\n",
       "      <td>0.009850</td>\n",
       "      <td>-0.140354</td>\n",
       "      <td>0.046520</td>\n",
       "      <td>-0.026001</td>\n",
       "      <td>-0.023429</td>\n",
       "      <td>-0.039783</td>\n",
       "      <td>0.105010</td>\n",
       "    </tr>\n",
       "    <tr>\n",
       "      <th>ejection_fraction</th>\n",
       "      <td>-0.067257</td>\n",
       "      <td>1.000000</td>\n",
       "      <td>0.054128</td>\n",
       "      <td>-0.199611</td>\n",
       "      <td>0.197044</td>\n",
       "      <td>0.084025</td>\n",
       "      <td>0.032626</td>\n",
       "      <td>0.013359</td>\n",
       "      <td>0.021615</td>\n",
       "      <td>-0.124140</td>\n",
       "      <td>-0.054775</td>\n",
       "      <td>0.045928</td>\n",
       "    </tr>\n",
       "    <tr>\n",
       "      <th>platelets</th>\n",
       "      <td>0.004120</td>\n",
       "      <td>0.054128</td>\n",
       "      <td>1.000000</td>\n",
       "      <td>-0.038749</td>\n",
       "      <td>0.054843</td>\n",
       "      <td>-0.053858</td>\n",
       "      <td>-0.017397</td>\n",
       "      <td>0.030895</td>\n",
       "      <td>0.078735</td>\n",
       "      <td>-0.124587</td>\n",
       "      <td>-0.038568</td>\n",
       "      <td>0.012067</td>\n",
       "    </tr>\n",
       "    <tr>\n",
       "      <th>serum_creatinine</th>\n",
       "      <td>0.111241</td>\n",
       "      <td>-0.199611</td>\n",
       "      <td>-0.038749</td>\n",
       "      <td>1.000000</td>\n",
       "      <td>-0.166704</td>\n",
       "      <td>0.249123</td>\n",
       "      <td>-0.011042</td>\n",
       "      <td>0.033689</td>\n",
       "      <td>-0.072018</td>\n",
       "      <td>0.065473</td>\n",
       "      <td>-0.028481</td>\n",
       "      <td>-0.097407</td>\n",
       "    </tr>\n",
       "    <tr>\n",
       "      <th>serum_sodium</th>\n",
       "      <td>-0.069762</td>\n",
       "      <td>0.197044</td>\n",
       "      <td>0.054843</td>\n",
       "      <td>-0.166704</td>\n",
       "      <td>1.000000</td>\n",
       "      <td>-0.065669</td>\n",
       "      <td>0.048716</td>\n",
       "      <td>-0.014613</td>\n",
       "      <td>0.011385</td>\n",
       "      <td>-0.091244</td>\n",
       "      <td>-0.001238</td>\n",
       "      <td>0.072922</td>\n",
       "    </tr>\n",
       "    <tr>\n",
       "      <th>age</th>\n",
       "      <td>0.009850</td>\n",
       "      <td>0.084025</td>\n",
       "      <td>-0.053858</td>\n",
       "      <td>0.249123</td>\n",
       "      <td>-0.065669</td>\n",
       "      <td>1.000000</td>\n",
       "      <td>0.088006</td>\n",
       "      <td>-0.101012</td>\n",
       "      <td>0.093289</td>\n",
       "      <td>0.065430</td>\n",
       "      <td>0.018668</td>\n",
       "      <td>-0.224068</td>\n",
       "    </tr>\n",
       "    <tr>\n",
       "      <th>anaemia</th>\n",
       "      <td>-0.140354</td>\n",
       "      <td>0.032626</td>\n",
       "      <td>-0.017397</td>\n",
       "      <td>-0.011042</td>\n",
       "      <td>0.048716</td>\n",
       "      <td>0.088006</td>\n",
       "      <td>1.000000</td>\n",
       "      <td>-0.012729</td>\n",
       "      <td>0.038182</td>\n",
       "      <td>-0.094769</td>\n",
       "      <td>-0.107290</td>\n",
       "      <td>-0.141414</td>\n",
       "    </tr>\n",
       "    <tr>\n",
       "      <th>diabetes</th>\n",
       "      <td>0.046520</td>\n",
       "      <td>0.013359</td>\n",
       "      <td>0.030895</td>\n",
       "      <td>0.033689</td>\n",
       "      <td>-0.014613</td>\n",
       "      <td>-0.101012</td>\n",
       "      <td>-0.012729</td>\n",
       "      <td>1.000000</td>\n",
       "      <td>-0.012732</td>\n",
       "      <td>-0.157730</td>\n",
       "      <td>-0.147173</td>\n",
       "      <td>0.033726</td>\n",
       "    </tr>\n",
       "    <tr>\n",
       "      <th>high_blood_pressure</th>\n",
       "      <td>-0.026001</td>\n",
       "      <td>0.021615</td>\n",
       "      <td>0.078735</td>\n",
       "      <td>-0.072018</td>\n",
       "      <td>0.011385</td>\n",
       "      <td>0.093289</td>\n",
       "      <td>0.038182</td>\n",
       "      <td>-0.012732</td>\n",
       "      <td>1.000000</td>\n",
       "      <td>-0.104615</td>\n",
       "      <td>-0.055711</td>\n",
       "      <td>-0.196439</td>\n",
       "    </tr>\n",
       "    <tr>\n",
       "      <th>sex</th>\n",
       "      <td>-0.023429</td>\n",
       "      <td>-0.124140</td>\n",
       "      <td>-0.124587</td>\n",
       "      <td>0.065473</td>\n",
       "      <td>-0.091244</td>\n",
       "      <td>0.065430</td>\n",
       "      <td>-0.094769</td>\n",
       "      <td>-0.157730</td>\n",
       "      <td>-0.104615</td>\n",
       "      <td>1.000000</td>\n",
       "      <td>0.445892</td>\n",
       "      <td>-0.015608</td>\n",
       "    </tr>\n",
       "    <tr>\n",
       "      <th>smoking</th>\n",
       "      <td>-0.039783</td>\n",
       "      <td>-0.054775</td>\n",
       "      <td>-0.038568</td>\n",
       "      <td>-0.028481</td>\n",
       "      <td>-0.001238</td>\n",
       "      <td>0.018668</td>\n",
       "      <td>-0.107290</td>\n",
       "      <td>-0.147173</td>\n",
       "      <td>-0.055711</td>\n",
       "      <td>0.445892</td>\n",
       "      <td>1.000000</td>\n",
       "      <td>-0.022839</td>\n",
       "    </tr>\n",
       "    <tr>\n",
       "      <th>time</th>\n",
       "      <td>0.105010</td>\n",
       "      <td>0.045928</td>\n",
       "      <td>0.012067</td>\n",
       "      <td>-0.097407</td>\n",
       "      <td>0.072922</td>\n",
       "      <td>-0.224068</td>\n",
       "      <td>-0.141414</td>\n",
       "      <td>0.033726</td>\n",
       "      <td>-0.196439</td>\n",
       "      <td>-0.015608</td>\n",
       "      <td>-0.022839</td>\n",
       "      <td>1.000000</td>\n",
       "    </tr>\n",
       "  </tbody>\n",
       "</table>\n",
       "</div>"
      ],
      "text/plain": [
       "                          creatinine_phosphokinase  ejection_fraction  \\\n",
       "creatinine_phosphokinase                  1.000000          -0.067257   \n",
       "ejection_fraction                        -0.067257           1.000000   \n",
       "platelets                                 0.004120           0.054128   \n",
       "serum_creatinine                          0.111241          -0.199611   \n",
       "serum_sodium                             -0.069762           0.197044   \n",
       "age                                       0.009850           0.084025   \n",
       "anaemia                                  -0.140354           0.032626   \n",
       "diabetes                                  0.046520           0.013359   \n",
       "high_blood_pressure                      -0.026001           0.021615   \n",
       "sex                                      -0.023429          -0.124140   \n",
       "smoking                                  -0.039783          -0.054775   \n",
       "time                                      0.105010           0.045928   \n",
       "\n",
       "                          platelets  serum_creatinine  serum_sodium       age  \\\n",
       "creatinine_phosphokinase   0.004120          0.111241     -0.069762  0.009850   \n",
       "ejection_fraction          0.054128         -0.199611      0.197044  0.084025   \n",
       "platelets                  1.000000         -0.038749      0.054843 -0.053858   \n",
       "serum_creatinine          -0.038749          1.000000     -0.166704  0.249123   \n",
       "serum_sodium               0.054843         -0.166704      1.000000 -0.065669   \n",
       "age                       -0.053858          0.249123     -0.065669  1.000000   \n",
       "anaemia                   -0.017397         -0.011042      0.048716  0.088006   \n",
       "diabetes                   0.030895          0.033689     -0.014613 -0.101012   \n",
       "high_blood_pressure        0.078735         -0.072018      0.011385  0.093289   \n",
       "sex                       -0.124587          0.065473     -0.091244  0.065430   \n",
       "smoking                   -0.038568         -0.028481     -0.001238  0.018668   \n",
       "time                       0.012067         -0.097407      0.072922 -0.224068   \n",
       "\n",
       "                           anaemia  diabetes  high_blood_pressure       sex  \\\n",
       "creatinine_phosphokinase -0.140354  0.046520            -0.026001 -0.023429   \n",
       "ejection_fraction         0.032626  0.013359             0.021615 -0.124140   \n",
       "platelets                -0.017397  0.030895             0.078735 -0.124587   \n",
       "serum_creatinine         -0.011042  0.033689            -0.072018  0.065473   \n",
       "serum_sodium              0.048716 -0.014613             0.011385 -0.091244   \n",
       "age                       0.088006 -0.101012             0.093289  0.065430   \n",
       "anaemia                   1.000000 -0.012729             0.038182 -0.094769   \n",
       "diabetes                 -0.012729  1.000000            -0.012732 -0.157730   \n",
       "high_blood_pressure       0.038182 -0.012732             1.000000 -0.104615   \n",
       "sex                      -0.094769 -0.157730            -0.104615  1.000000   \n",
       "smoking                  -0.107290 -0.147173            -0.055711  0.445892   \n",
       "time                     -0.141414  0.033726            -0.196439 -0.015608   \n",
       "\n",
       "                           smoking      time  \n",
       "creatinine_phosphokinase -0.039783  0.105010  \n",
       "ejection_fraction        -0.054775  0.045928  \n",
       "platelets                -0.038568  0.012067  \n",
       "serum_creatinine         -0.028481 -0.097407  \n",
       "serum_sodium             -0.001238  0.072922  \n",
       "age                       0.018668 -0.224068  \n",
       "anaemia                  -0.107290 -0.141414  \n",
       "diabetes                 -0.147173  0.033726  \n",
       "high_blood_pressure      -0.055711 -0.196439  \n",
       "sex                       0.445892 -0.015608  \n",
       "smoking                   1.000000 -0.022839  \n",
       "time                     -0.022839  1.000000  "
      ]
     },
     "execution_count": 633,
     "metadata": {},
     "output_type": "execute_result"
    }
   ],
   "source": [
    "X.corr()"
   ]
  },
  {
   "cell_type": "code",
   "execution_count": 634,
   "id": "corporate-beverage",
   "metadata": {
    "scrolled": true
   },
   "outputs": [
    {
     "data": {
      "text/html": [
       "<div>\n",
       "<style scoped>\n",
       "    .dataframe tbody tr th:only-of-type {\n",
       "        vertical-align: middle;\n",
       "    }\n",
       "\n",
       "    .dataframe tbody tr th {\n",
       "        vertical-align: top;\n",
       "    }\n",
       "\n",
       "    .dataframe thead th {\n",
       "        text-align: right;\n",
       "    }\n",
       "</style>\n",
       "<table border=\"1\" class=\"dataframe\">\n",
       "  <thead>\n",
       "    <tr style=\"text-align: right;\">\n",
       "      <th></th>\n",
       "      <th>creatinine_phosphokinase</th>\n",
       "      <th>ejection_fraction</th>\n",
       "      <th>platelets</th>\n",
       "      <th>serum_creatinine</th>\n",
       "      <th>serum_sodium</th>\n",
       "      <th>age</th>\n",
       "      <th>anaemia</th>\n",
       "      <th>diabetes</th>\n",
       "      <th>high_blood_pressure</th>\n",
       "      <th>sex</th>\n",
       "      <th>smoking</th>\n",
       "      <th>time</th>\n",
       "    </tr>\n",
       "  </thead>\n",
       "  <tbody>\n",
       "    <tr>\n",
       "      <th>creatinine_phosphokinase</th>\n",
       "      <td>1.0</td>\n",
       "      <td>NaN</td>\n",
       "      <td>NaN</td>\n",
       "      <td>NaN</td>\n",
       "      <td>NaN</td>\n",
       "      <td>NaN</td>\n",
       "      <td>NaN</td>\n",
       "      <td>NaN</td>\n",
       "      <td>NaN</td>\n",
       "      <td>NaN</td>\n",
       "      <td>NaN</td>\n",
       "      <td>NaN</td>\n",
       "    </tr>\n",
       "    <tr>\n",
       "      <th>ejection_fraction</th>\n",
       "      <td>NaN</td>\n",
       "      <td>1.0</td>\n",
       "      <td>NaN</td>\n",
       "      <td>NaN</td>\n",
       "      <td>NaN</td>\n",
       "      <td>NaN</td>\n",
       "      <td>NaN</td>\n",
       "      <td>NaN</td>\n",
       "      <td>NaN</td>\n",
       "      <td>NaN</td>\n",
       "      <td>NaN</td>\n",
       "      <td>NaN</td>\n",
       "    </tr>\n",
       "    <tr>\n",
       "      <th>platelets</th>\n",
       "      <td>NaN</td>\n",
       "      <td>NaN</td>\n",
       "      <td>1.0</td>\n",
       "      <td>NaN</td>\n",
       "      <td>NaN</td>\n",
       "      <td>NaN</td>\n",
       "      <td>NaN</td>\n",
       "      <td>NaN</td>\n",
       "      <td>NaN</td>\n",
       "      <td>NaN</td>\n",
       "      <td>NaN</td>\n",
       "      <td>NaN</td>\n",
       "    </tr>\n",
       "    <tr>\n",
       "      <th>serum_creatinine</th>\n",
       "      <td>NaN</td>\n",
       "      <td>NaN</td>\n",
       "      <td>NaN</td>\n",
       "      <td>1.0</td>\n",
       "      <td>NaN</td>\n",
       "      <td>NaN</td>\n",
       "      <td>NaN</td>\n",
       "      <td>NaN</td>\n",
       "      <td>NaN</td>\n",
       "      <td>NaN</td>\n",
       "      <td>NaN</td>\n",
       "      <td>NaN</td>\n",
       "    </tr>\n",
       "    <tr>\n",
       "      <th>serum_sodium</th>\n",
       "      <td>NaN</td>\n",
       "      <td>NaN</td>\n",
       "      <td>NaN</td>\n",
       "      <td>NaN</td>\n",
       "      <td>1.0</td>\n",
       "      <td>NaN</td>\n",
       "      <td>NaN</td>\n",
       "      <td>NaN</td>\n",
       "      <td>NaN</td>\n",
       "      <td>NaN</td>\n",
       "      <td>NaN</td>\n",
       "      <td>NaN</td>\n",
       "    </tr>\n",
       "    <tr>\n",
       "      <th>age</th>\n",
       "      <td>NaN</td>\n",
       "      <td>NaN</td>\n",
       "      <td>NaN</td>\n",
       "      <td>NaN</td>\n",
       "      <td>NaN</td>\n",
       "      <td>1.0</td>\n",
       "      <td>NaN</td>\n",
       "      <td>NaN</td>\n",
       "      <td>NaN</td>\n",
       "      <td>NaN</td>\n",
       "      <td>NaN</td>\n",
       "      <td>NaN</td>\n",
       "    </tr>\n",
       "    <tr>\n",
       "      <th>anaemia</th>\n",
       "      <td>NaN</td>\n",
       "      <td>NaN</td>\n",
       "      <td>NaN</td>\n",
       "      <td>NaN</td>\n",
       "      <td>NaN</td>\n",
       "      <td>NaN</td>\n",
       "      <td>1.0</td>\n",
       "      <td>NaN</td>\n",
       "      <td>NaN</td>\n",
       "      <td>NaN</td>\n",
       "      <td>NaN</td>\n",
       "      <td>NaN</td>\n",
       "    </tr>\n",
       "    <tr>\n",
       "      <th>diabetes</th>\n",
       "      <td>NaN</td>\n",
       "      <td>NaN</td>\n",
       "      <td>NaN</td>\n",
       "      <td>NaN</td>\n",
       "      <td>NaN</td>\n",
       "      <td>NaN</td>\n",
       "      <td>NaN</td>\n",
       "      <td>1.0</td>\n",
       "      <td>NaN</td>\n",
       "      <td>NaN</td>\n",
       "      <td>NaN</td>\n",
       "      <td>NaN</td>\n",
       "    </tr>\n",
       "    <tr>\n",
       "      <th>high_blood_pressure</th>\n",
       "      <td>NaN</td>\n",
       "      <td>NaN</td>\n",
       "      <td>NaN</td>\n",
       "      <td>NaN</td>\n",
       "      <td>NaN</td>\n",
       "      <td>NaN</td>\n",
       "      <td>NaN</td>\n",
       "      <td>NaN</td>\n",
       "      <td>1.0</td>\n",
       "      <td>NaN</td>\n",
       "      <td>NaN</td>\n",
       "      <td>NaN</td>\n",
       "    </tr>\n",
       "    <tr>\n",
       "      <th>sex</th>\n",
       "      <td>NaN</td>\n",
       "      <td>NaN</td>\n",
       "      <td>NaN</td>\n",
       "      <td>NaN</td>\n",
       "      <td>NaN</td>\n",
       "      <td>NaN</td>\n",
       "      <td>NaN</td>\n",
       "      <td>NaN</td>\n",
       "      <td>NaN</td>\n",
       "      <td>1.0</td>\n",
       "      <td>NaN</td>\n",
       "      <td>NaN</td>\n",
       "    </tr>\n",
       "    <tr>\n",
       "      <th>smoking</th>\n",
       "      <td>NaN</td>\n",
       "      <td>NaN</td>\n",
       "      <td>NaN</td>\n",
       "      <td>NaN</td>\n",
       "      <td>NaN</td>\n",
       "      <td>NaN</td>\n",
       "      <td>NaN</td>\n",
       "      <td>NaN</td>\n",
       "      <td>NaN</td>\n",
       "      <td>NaN</td>\n",
       "      <td>1.0</td>\n",
       "      <td>NaN</td>\n",
       "    </tr>\n",
       "    <tr>\n",
       "      <th>time</th>\n",
       "      <td>NaN</td>\n",
       "      <td>NaN</td>\n",
       "      <td>NaN</td>\n",
       "      <td>NaN</td>\n",
       "      <td>NaN</td>\n",
       "      <td>NaN</td>\n",
       "      <td>NaN</td>\n",
       "      <td>NaN</td>\n",
       "      <td>NaN</td>\n",
       "      <td>NaN</td>\n",
       "      <td>NaN</td>\n",
       "      <td>1.0</td>\n",
       "    </tr>\n",
       "  </tbody>\n",
       "</table>\n",
       "</div>"
      ],
      "text/plain": [
       "                          creatinine_phosphokinase  ejection_fraction  \\\n",
       "creatinine_phosphokinase                       1.0                NaN   \n",
       "ejection_fraction                              NaN                1.0   \n",
       "platelets                                      NaN                NaN   \n",
       "serum_creatinine                               NaN                NaN   \n",
       "serum_sodium                                   NaN                NaN   \n",
       "age                                            NaN                NaN   \n",
       "anaemia                                        NaN                NaN   \n",
       "diabetes                                       NaN                NaN   \n",
       "high_blood_pressure                            NaN                NaN   \n",
       "sex                                            NaN                NaN   \n",
       "smoking                                        NaN                NaN   \n",
       "time                                           NaN                NaN   \n",
       "\n",
       "                          platelets  serum_creatinine  serum_sodium  age  \\\n",
       "creatinine_phosphokinase        NaN               NaN           NaN  NaN   \n",
       "ejection_fraction               NaN               NaN           NaN  NaN   \n",
       "platelets                       1.0               NaN           NaN  NaN   \n",
       "serum_creatinine                NaN               1.0           NaN  NaN   \n",
       "serum_sodium                    NaN               NaN           1.0  NaN   \n",
       "age                             NaN               NaN           NaN  1.0   \n",
       "anaemia                         NaN               NaN           NaN  NaN   \n",
       "diabetes                        NaN               NaN           NaN  NaN   \n",
       "high_blood_pressure             NaN               NaN           NaN  NaN   \n",
       "sex                             NaN               NaN           NaN  NaN   \n",
       "smoking                         NaN               NaN           NaN  NaN   \n",
       "time                            NaN               NaN           NaN  NaN   \n",
       "\n",
       "                          anaemia  diabetes  high_blood_pressure  sex  \\\n",
       "creatinine_phosphokinase      NaN       NaN                  NaN  NaN   \n",
       "ejection_fraction             NaN       NaN                  NaN  NaN   \n",
       "platelets                     NaN       NaN                  NaN  NaN   \n",
       "serum_creatinine              NaN       NaN                  NaN  NaN   \n",
       "serum_sodium                  NaN       NaN                  NaN  NaN   \n",
       "age                           NaN       NaN                  NaN  NaN   \n",
       "anaemia                       1.0       NaN                  NaN  NaN   \n",
       "diabetes                      NaN       1.0                  NaN  NaN   \n",
       "high_blood_pressure           NaN       NaN                  1.0  NaN   \n",
       "sex                           NaN       NaN                  NaN  1.0   \n",
       "smoking                       NaN       NaN                  NaN  NaN   \n",
       "time                          NaN       NaN                  NaN  NaN   \n",
       "\n",
       "                          smoking  time  \n",
       "creatinine_phosphokinase      NaN   NaN  \n",
       "ejection_fraction             NaN   NaN  \n",
       "platelets                     NaN   NaN  \n",
       "serum_creatinine              NaN   NaN  \n",
       "serum_sodium                  NaN   NaN  \n",
       "age                           NaN   NaN  \n",
       "anaemia                       NaN   NaN  \n",
       "diabetes                      NaN   NaN  \n",
       "high_blood_pressure           NaN   NaN  \n",
       "sex                           NaN   NaN  \n",
       "smoking                       1.0   NaN  \n",
       "time                          NaN   1.0  "
      ]
     },
     "execution_count": 634,
     "metadata": {},
     "output_type": "execute_result"
    }
   ],
   "source": [
    "X.corr()[abs(X.corr())>=0.5]"
   ]
  },
  {
   "cell_type": "markdown",
   "id": "partial-swedish",
   "metadata": {},
   "source": [
    "No Multicollinearity."
   ]
  },
  {
   "cell_type": "markdown",
   "id": "fresh-profession",
   "metadata": {},
   "source": [
    "### Partition the data and possible resampling."
   ]
  },
  {
   "cell_type": "markdown",
   "id": "starting-receptor",
   "metadata": {},
   "source": [
    "75% is training set, 25% is test sets"
   ]
  },
  {
   "cell_type": "code",
   "execution_count": 635,
   "id": "collective-ordering",
   "metadata": {},
   "outputs": [],
   "source": [
    "heart_train, heart_test = train_test_split(heart, test_size = 0.25, random_state = 7)"
   ]
  },
  {
   "cell_type": "code",
   "execution_count": 636,
   "id": "superior-haven",
   "metadata": {},
   "outputs": [
    {
     "name": "stdout",
     "output_type": "stream",
     "text": [
      "Total number of records:  299\n"
     ]
    }
   ],
   "source": [
    "print('Total number of records: ', heart.shape[0])"
   ]
  },
  {
   "cell_type": "code",
   "execution_count": 637,
   "id": "rocky-width",
   "metadata": {},
   "outputs": [
    {
     "name": "stdout",
     "output_type": "stream",
     "text": [
      "Number of training record is 224 and has proportion of 74.92%\n"
     ]
    }
   ],
   "source": [
    "print(\"Number of training record is {} and has proportion of {}%\".format(heart_train.shape[0], \n",
    "                                                                        round(100*heart_train.shape[0]/heart.shape[0],2)))"
   ]
  },
  {
   "cell_type": "code",
   "execution_count": 638,
   "id": "heard-ranking",
   "metadata": {},
   "outputs": [
    {
     "name": "stdout",
     "output_type": "stream",
     "text": [
      "Number of test record is 75 and has proportion of 25.08%\n"
     ]
    }
   ],
   "source": [
    "print(\"Number of test record is {} and has proportion of {}%\".format(heart_test.shape[0], \n",
    "                                                                        round(100*heart_test.shape[0]/heart.shape[0],2)))"
   ]
  },
  {
   "cell_type": "code",
   "execution_count": 639,
   "id": "finite-machine",
   "metadata": {},
   "outputs": [
    {
     "data": {
      "text/plain": [
       "<BarContainer object of 2 artists>"
      ]
     },
     "execution_count": 639,
     "metadata": {},
     "output_type": "execute_result"
    },
    {
     "data": {
      "image/png": "[encoded data removed]",
      "text/plain": [
       "<Figure size 432x288 with 1 Axes>"
      ]
     },
     "metadata": {
      "needs_background": "light"
     },
     "output_type": "display_data"
    }
   ],
   "source": [
    "names = ['heart_train', 'heart_test']\n",
    "percent = [round(100*heart_train.shape[0]/heart.shape[0],2), round(100*heart_test.shape[0]/heart.shape[0],2)]\n",
    "plt.bar(names, percent)"
   ]
  },
  {
   "cell_type": "markdown",
   "id": "disturbed-volleyball",
   "metadata": {},
   "source": [
    "Check for proportion of death event counts"
   ]
  },
  {
   "cell_type": "code",
   "execution_count": 640,
   "id": "prerequisite-athens",
   "metadata": {},
   "outputs": [
    {
     "data": {
      "text/plain": [
       "0    0.76\n",
       "1    0.24\n",
       "Name: DEATH_EVENT, dtype: float64"
      ]
     },
     "execution_count": 640,
     "metadata": {},
     "output_type": "execute_result"
    }
   ],
   "source": [
    "heart_test['DEATH_EVENT'].value_counts(normalize=True)"
   ]
  },
  {
   "cell_type": "markdown",
   "id": "charitable-duncan",
   "metadata": {},
   "source": [
    "This shows the proportion of target variable is 24% (death events), no resampling needed."
   ]
  },
  {
   "cell_type": "markdown",
   "id": "significant-leisure",
   "metadata": {},
   "source": [
    "### Model Building"
   ]
  },
  {
   "cell_type": "markdown",
   "id": "described-angola",
   "metadata": {},
   "source": [
    "#### C5.0\n",
    "#### CART\n",
    "#### Logistic Regression\n",
    "#### Random Forest\n",
    "#### Naive Bayes\n",
    "#### Neural Network"
   ]
  },
  {
   "cell_type": "code",
   "execution_count": 641,
   "id": "fitting-recipient",
   "metadata": {},
   "outputs": [],
   "source": [
    "#heart_train.head()"
   ]
  },
  {
   "cell_type": "code",
   "execution_count": 642,
   "id": "organic-collaboration",
   "metadata": {},
   "outputs": [],
   "source": [
    "#heart_test.head()"
   ]
  },
  {
   "cell_type": "code",
   "execution_count": 643,
   "id": "korean-ratio",
   "metadata": {},
   "outputs": [],
   "source": [
    "import statsmodels.tools.tools as stattools\n",
    "from sklearn.tree import DecisionTreeClassifier, export_graphviz\n",
    "\n",
    "#preparing variables of training dataset for building model  \n",
    "\n",
    "train_y = heart_train[['DEATH_EVENT']]\n",
    "\n",
    "#all categorical variables from thr dataframe\n",
    "train_X = heart_train[['ejection_fraction','serum_creatinine','age', 'time']]\n",
    "\n",
    "\n",
    "\n",
    "\n"
   ]
  },
  {
   "cell_type": "code",
   "execution_count": 644,
   "id": "identified-return",
   "metadata": {},
   "outputs": [],
   "source": [
    "#preparing variables of test dataset for building model \n",
    "\n",
    "test_y = heart_test[['DEATH_EVENT']]\n",
    "\n",
    "\n",
    "test_X = heart_test[['ejection_fraction','serum_creatinine','age', 'time']]\n",
    "\n",
    "\n",
    "\n",
    "\n"
   ]
  },
  {
   "cell_type": "markdown",
   "id": "twenty-image",
   "metadata": {},
   "source": [
    "\n",
    "\n",
    "\n",
    "#### C5.0\n",
    "\n",
    "\n",
    "\n"
   ]
  },
  {
   "cell_type": "code",
   "execution_count": 645,
   "id": "heated-going",
   "metadata": {},
   "outputs": [
    {
     "data": {
      "text/html": [
       "<div>\n",
       "<style scoped>\n",
       "    .dataframe tbody tr th:only-of-type {\n",
       "        vertical-align: middle;\n",
       "    }\n",
       "\n",
       "    .dataframe tbody tr th {\n",
       "        vertical-align: top;\n",
       "    }\n",
       "\n",
       "    .dataframe thead th {\n",
       "        text-align: right;\n",
       "    }\n",
       "</style>\n",
       "<table border=\"1\" class=\"dataframe\">\n",
       "  <thead>\n",
       "    <tr style=\"text-align: right;\">\n",
       "      <th>col_0</th>\n",
       "      <th>0</th>\n",
       "      <th>1</th>\n",
       "      <th>Total</th>\n",
       "    </tr>\n",
       "    <tr>\n",
       "      <th>DEATH_EVENT</th>\n",
       "      <th></th>\n",
       "      <th></th>\n",
       "      <th></th>\n",
       "    </tr>\n",
       "  </thead>\n",
       "  <tbody>\n",
       "    <tr>\n",
       "      <th>0</th>\n",
       "      <td>54.0</td>\n",
       "      <td>3.0</td>\n",
       "      <td>57.0</td>\n",
       "    </tr>\n",
       "    <tr>\n",
       "      <th>1</th>\n",
       "      <td>5.0</td>\n",
       "      <td>13.0</td>\n",
       "      <td>18.0</td>\n",
       "    </tr>\n",
       "    <tr>\n",
       "      <th>Total</th>\n",
       "      <td>59.0</td>\n",
       "      <td>16.0</td>\n",
       "      <td>75.0</td>\n",
       "    </tr>\n",
       "  </tbody>\n",
       "</table>\n",
       "</div>"
      ],
      "text/plain": [
       "col_0           0     1  Total\n",
       "DEATH_EVENT                   \n",
       "0            54.0   3.0   57.0\n",
       "1             5.0  13.0   18.0\n",
       "Total        59.0  16.0   75.0"
      ]
     },
     "execution_count": 645,
     "metadata": {},
     "output_type": "execute_result"
    }
   ],
   "source": [
    "#Building C5.0 algorithm\n",
    "c50 = DecisionTreeClassifier(criterion = 'entropy', max_leaf_nodes= 5).fit(train_X, train_y)\n",
    "\n",
    "pred_C50_train =c50.predict(train_X)\n",
    "\n",
    "#Use c5.0 model to predict on test data\n",
    "pred_C50_test = c50.predict(test_X)\n",
    "\n",
    "#Contingency table\n",
    "contingency_C50 = pd.crosstab(heart_test['DEATH_EVENT'],pred_C50_test)\n",
    "\n",
    "#Total sum per column: \n",
    "contingency_C50.loc['Total',:]= contingency_C50.sum(axis=0)\n",
    "\n",
    "#Total sum per row: \n",
    "contingency_C50.loc[:,'Total'] = contingency_C50.sum(axis=1)\n",
    "contingency_C50\n",
    "\n"
   ]
  },
  {
   "cell_type": "code",
   "execution_count": 646,
   "id": "southeast-convention",
   "metadata": {},
   "outputs": [],
   "source": [
    "#calculating evaluation measures\n"
   ]
  },
  {
   "cell_type": "markdown",
   "id": "subtle-deployment",
   "metadata": {},
   "source": [
    "\n",
    "\n",
    "#### CART\n",
    "\n",
    "\n",
    "\n"
   ]
  },
  {
   "cell_type": "code",
   "execution_count": 647,
   "id": "ahead-router",
   "metadata": {},
   "outputs": [],
   "source": [
    "#Building CART Model\n",
    "cart = DecisionTreeClassifier(criterion = 'gini', max_leaf_nodes= 5).fit(train_X, train_y)\n",
    "\n",
    "pred_cart_train = cart.predict(train_X)\n",
    "\n"
   ]
  },
  {
   "cell_type": "code",
   "execution_count": 648,
   "id": "urban-telescope",
   "metadata": {},
   "outputs": [
    {
     "data": {
      "text/html": [
       "<div>\n",
       "<style scoped>\n",
       "    .dataframe tbody tr th:only-of-type {\n",
       "        vertical-align: middle;\n",
       "    }\n",
       "\n",
       "    .dataframe tbody tr th {\n",
       "        vertical-align: top;\n",
       "    }\n",
       "\n",
       "    .dataframe thead th {\n",
       "        text-align: right;\n",
       "    }\n",
       "</style>\n",
       "<table border=\"1\" class=\"dataframe\">\n",
       "  <thead>\n",
       "    <tr style=\"text-align: right;\">\n",
       "      <th>col_0</th>\n",
       "      <th>0</th>\n",
       "      <th>1</th>\n",
       "      <th>Total</th>\n",
       "    </tr>\n",
       "    <tr>\n",
       "      <th>DEATH_EVENT</th>\n",
       "      <th></th>\n",
       "      <th></th>\n",
       "      <th></th>\n",
       "    </tr>\n",
       "  </thead>\n",
       "  <tbody>\n",
       "    <tr>\n",
       "      <th>0</th>\n",
       "      <td>51.0</td>\n",
       "      <td>6.0</td>\n",
       "      <td>57.0</td>\n",
       "    </tr>\n",
       "    <tr>\n",
       "      <th>1</th>\n",
       "      <td>7.0</td>\n",
       "      <td>11.0</td>\n",
       "      <td>18.0</td>\n",
       "    </tr>\n",
       "    <tr>\n",
       "      <th>Total</th>\n",
       "      <td>58.0</td>\n",
       "      <td>17.0</td>\n",
       "      <td>75.0</td>\n",
       "    </tr>\n",
       "  </tbody>\n",
       "</table>\n",
       "</div>"
      ],
      "text/plain": [
       "col_0           0     1  Total\n",
       "DEATH_EVENT                   \n",
       "0            51.0   6.0   57.0\n",
       "1             7.0  11.0   18.0\n",
       "Total        58.0  17.0   75.0"
      ]
     },
     "execution_count": 648,
     "metadata": {},
     "output_type": "execute_result"
    }
   ],
   "source": [
    "#Use CART model to predict on test data\n",
    "pred_cart_test = cart.predict(test_X)\n",
    "\n",
    "#Contingency table \n",
    "contingency_cart = pd.crosstab(heart_test['DEATH_EVENT'],pred_cart_test)\n",
    "\n",
    "#Total sum per column: \n",
    "contingency_cart.loc['Total',:]= contingency_cart.sum(axis=0)\n",
    "\n",
    "#Total sum per row: \n",
    "contingency_cart.loc[:,'Total'] = contingency_cart.sum(axis=1)\n",
    "contingency_cart"
   ]
  },
  {
   "cell_type": "markdown",
   "id": "little-community",
   "metadata": {},
   "source": [
    "\n",
    "\n",
    "\n",
    "#### Logistic Regression \n",
    "\n",
    "\n"
   ]
  },
  {
   "cell_type": "code",
   "execution_count": 649,
   "id": "conceptual-indonesian",
   "metadata": {},
   "outputs": [
    {
     "name": "stdout",
     "output_type": "stream",
     "text": [
      "Optimization terminated successfully.\n",
      "         Current function value: 0.388932\n",
      "         Iterations 7\n"
     ]
    },
    {
     "data": {
      "text/html": [
       "<table class=\"simpletable\">\n",
       "<tr>\n",
       "        <td>Model:</td>              <td>Logit</td>      <td>Pseudo R-squared:</td>    <td>0.398</td>  \n",
       "</tr>\n",
       "<tr>\n",
       "  <td>Dependent Variable:</td>    <td>DEATH_EVENT</td>         <td>AIC:</td>         <td>200.2415</td> \n",
       "</tr>\n",
       "<tr>\n",
       "         <td>Date:</td>        <td>2021-08-10 19:46</td>       <td>BIC:</td>         <td>244.5929</td> \n",
       "</tr>\n",
       "<tr>\n",
       "   <td>No. Observations:</td>         <td>224</td>        <td>Log-Likelihood:</td>    <td>-87.121</td> \n",
       "</tr>\n",
       "<tr>\n",
       "       <td>Df Model:</td>             <td>12</td>            <td>LL-Null:</td>        <td>-144.78</td> \n",
       "</tr>\n",
       "<tr>\n",
       "     <td>Df Residuals:</td>           <td>211</td>         <td>LLR p-value:</td>    <td>5.2864e-19</td>\n",
       "</tr>\n",
       "<tr>\n",
       "      <td>Converged:</td>           <td>1.0000</td>           <td>Scale:</td>         <td>1.0000</td>  \n",
       "</tr>\n",
       "<tr>\n",
       "    <td>No. Iterations:</td>        <td>7.0000</td>              <td></td>               <td></td>     \n",
       "</tr>\n",
       "</table>\n",
       "<table class=\"simpletable\">\n",
       "<tr>\n",
       "              <td></td>              <th>Coef.</th>  <th>Std.Err.</th>    <th>z</th>     <th>P>|z|</th> <th>[0.025</th>  <th>0.975]</th> \n",
       "</tr>\n",
       "<tr>\n",
       "  <th>const</th>                    <td>12.6700</td>  <td>7.7509</td>  <td>1.6347</td>  <td>0.1021</td> <td>-2.5214</td> <td>27.8614</td>\n",
       "</tr>\n",
       "<tr>\n",
       "  <th>anaemia</th>                  <td>-0.2185</td>  <td>0.3961</td>  <td>-0.5516</td> <td>0.5812</td> <td>-0.9949</td> <td>0.5579</td> \n",
       "</tr>\n",
       "<tr>\n",
       "  <th>high_blood_pressure</th>      <td>-0.3578</td>  <td>0.4139</td>  <td>-0.8645</td> <td>0.3873</td> <td>-1.1690</td> <td>0.4534</td> \n",
       "</tr>\n",
       "<tr>\n",
       "  <th>diabetes</th>                 <td>-0.1825</td>  <td>0.3978</td>  <td>-0.4589</td> <td>0.6463</td> <td>-0.9621</td> <td>0.5970</td> \n",
       "</tr>\n",
       "<tr>\n",
       "  <th>sex</th>                      <td>-0.6945</td>  <td>0.4608</td>  <td>-1.5072</td> <td>0.1318</td> <td>-1.5976</td> <td>0.2086</td> \n",
       "</tr>\n",
       "<tr>\n",
       "  <th>smoking</th>                  <td>0.3254</td>   <td>0.4587</td>  <td>0.7094</td>  <td>0.4781</td> <td>-0.5736</td> <td>1.2243</td> \n",
       "</tr>\n",
       "<tr>\n",
       "  <th>creatinine_phosphokinase</th> <td>0.0005</td>   <td>0.0007</td>  <td>0.6359</td>  <td>0.5248</td> <td>-0.0010</td> <td>0.0019</td> \n",
       "</tr>\n",
       "<tr>\n",
       "  <th>ejection_fraction</th>        <td>-0.0603</td>  <td>0.0180</td>  <td>-3.3583</td> <td>0.0008</td> <td>-0.0955</td> <td>-0.0251</td>\n",
       "</tr>\n",
       "<tr>\n",
       "  <th>platelets</th>                <td>-0.0000</td>  <td>0.0000</td>  <td>-1.1719</td> <td>0.2412</td> <td>-0.0000</td> <td>0.0000</td> \n",
       "</tr>\n",
       "<tr>\n",
       "  <th>serum_creatinine</th>         <td>1.2933</td>   <td>0.6703</td>  <td>1.9294</td>  <td>0.0537</td> <td>-0.0205</td> <td>2.6072</td> \n",
       "</tr>\n",
       "<tr>\n",
       "  <th>serum_sodium</th>             <td>-0.0852</td>  <td>0.0534</td>  <td>-1.5965</td> <td>0.1104</td> <td>-0.1899</td> <td>0.0194</td> \n",
       "</tr>\n",
       "<tr>\n",
       "  <th>age</th>                      <td>0.0474</td>   <td>0.0180</td>  <td>2.6350</td>  <td>0.0084</td> <td>0.0121</td>  <td>0.0827</td> \n",
       "</tr>\n",
       "<tr>\n",
       "  <th>time</th>                     <td>-0.0216</td>  <td>0.0033</td>  <td>-6.5288</td> <td>0.0000</td> <td>-0.0281</td> <td>-0.0151</td>\n",
       "</tr>\n",
       "</table>"
      ],
      "text/plain": [
       "<class 'statsmodels.iolib.summary2.Summary'>\n",
       "\"\"\"\n",
       "                             Results: Logit\n",
       "========================================================================\n",
       "Model:                 Logit              Pseudo R-squared:   0.398     \n",
       "Dependent Variable:    DEATH_EVENT        AIC:                200.2415  \n",
       "Date:                  2021-08-10 19:46   BIC:                244.5929  \n",
       "No. Observations:      224                Log-Likelihood:     -87.121   \n",
       "Df Model:              12                 LL-Null:            -144.78   \n",
       "Df Residuals:          211                LLR p-value:        5.2864e-19\n",
       "Converged:             1.0000             Scale:              1.0000    \n",
       "No. Iterations:        7.0000                                           \n",
       "------------------------------------------------------------------------\n",
       "                          Coef.  Std.Err.    z    P>|z|   [0.025  0.975]\n",
       "------------------------------------------------------------------------\n",
       "const                    12.6700   7.7509  1.6347 0.1021 -2.5214 27.8614\n",
       "anaemia                  -0.2185   0.3961 -0.5516 0.5812 -0.9949  0.5579\n",
       "high_blood_pressure      -0.3578   0.4139 -0.8645 0.3873 -1.1690  0.4534\n",
       "diabetes                 -0.1825   0.3978 -0.4589 0.6463 -0.9621  0.5970\n",
       "sex                      -0.6945   0.4608 -1.5072 0.1318 -1.5976  0.2086\n",
       "smoking                   0.3254   0.4587  0.7094 0.4781 -0.5736  1.2243\n",
       "creatinine_phosphokinase  0.0005   0.0007  0.6359 0.5248 -0.0010  0.0019\n",
       "ejection_fraction        -0.0603   0.0180 -3.3583 0.0008 -0.0955 -0.0251\n",
       "platelets                -0.0000   0.0000 -1.1719 0.2412 -0.0000  0.0000\n",
       "serum_creatinine          1.2933   0.6703  1.9294 0.0537 -0.0205  2.6072\n",
       "serum_sodium             -0.0852   0.0534 -1.5965 0.1104 -0.1899  0.0194\n",
       "age                       0.0474   0.0180  2.6350 0.0084  0.0121  0.0827\n",
       "time                     -0.0216   0.0033 -6.5288 0.0000 -0.0281 -0.0151\n",
       "========================================================================\n",
       "\n",
       "\"\"\""
      ]
     },
     "execution_count": 649,
     "metadata": {},
     "output_type": "execute_result"
    }
   ],
   "source": [
    "#assigning variables to perform logistic regresssion \n",
    "\n",
    "X = pd.DataFrame(heart_train[['anaemia', 'high_blood_pressure', 'diabetes','sex', 'smoking','creatinine_phosphokinase','ejection_fraction','platelets', 'serum_creatinine','serum_sodium', 'age', 'time']])\n",
    "X = sm.add_constant(X)\n",
    "y = pd.DataFrame(heart_train[['DEATH_EVENT']])\n",
    "\n",
    "log_reg = sm.Logit(y, X).fit()\n",
    "log_reg.summary2()"
   ]
  },
  {
   "cell_type": "markdown",
   "id": "satellite-april",
   "metadata": {},
   "source": [
    "Here p-value of all the predictors excluding age, time, serum_creatine and  ejection_fraction is more than 0.05.Therefore we will have to remodel the logistic regression and inclue only those variables whose p value is less than 0.05.  "
   ]
  },
  {
   "cell_type": "code",
   "execution_count": 650,
   "id": "warming-agenda",
   "metadata": {},
   "outputs": [
    {
     "name": "stdout",
     "output_type": "stream",
     "text": [
      "Optimization terminated successfully.\n",
      "         Current function value: 0.404043\n",
      "         Iterations 7\n"
     ]
    },
    {
     "data": {
      "text/html": [
       "<table class=\"simpletable\">\n",
       "<tr>\n",
       "        <td>Model:</td>              <td>Logit</td>      <td>Pseudo R-squared:</td>    <td>0.375</td>  \n",
       "</tr>\n",
       "<tr>\n",
       "  <td>Dependent Variable:</td>    <td>DEATH_EVENT</td>         <td>AIC:</td>         <td>191.0111</td> \n",
       "</tr>\n",
       "<tr>\n",
       "         <td>Date:</td>        <td>2021-08-10 19:46</td>       <td>BIC:</td>         <td>208.0693</td> \n",
       "</tr>\n",
       "<tr>\n",
       "   <td>No. Observations:</td>         <td>224</td>        <td>Log-Likelihood:</td>    <td>-90.506</td> \n",
       "</tr>\n",
       "<tr>\n",
       "       <td>Df Model:</td>              <td>4</td>            <td>LL-Null:</td>        <td>-144.78</td> \n",
       "</tr>\n",
       "<tr>\n",
       "     <td>Df Residuals:</td>           <td>219</td>         <td>LLR p-value:</td>    <td>1.4857e-22</td>\n",
       "</tr>\n",
       "<tr>\n",
       "      <td>Converged:</td>           <td>1.0000</td>           <td>Scale:</td>         <td>1.0000</td>  \n",
       "</tr>\n",
       "<tr>\n",
       "    <td>No. Iterations:</td>        <td>7.0000</td>              <td></td>               <td></td>     \n",
       "</tr>\n",
       "</table>\n",
       "<table class=\"simpletable\">\n",
       "<tr>\n",
       "          <td></td>           <th>Coef.</th>  <th>Std.Err.</th>    <th>z</th>     <th>P>|z|</th> <th>[0.025</th>  <th>0.975]</th> \n",
       "</tr>\n",
       "<tr>\n",
       "  <th>const</th>             <td>-0.7790</td>  <td>1.2512</td>  <td>-0.6227</td> <td>0.5335</td> <td>-3.2313</td> <td>1.6732</td> \n",
       "</tr>\n",
       "<tr>\n",
       "  <th>ejection_fraction</th> <td>-0.0584</td>  <td>0.0166</td>  <td>-3.5157</td> <td>0.0004</td> <td>-0.0910</td> <td>-0.0259</td>\n",
       "</tr>\n",
       "<tr>\n",
       "  <th>serum_creatinine</th>  <td>1.4856</td>   <td>0.6319</td>  <td>2.3510</td>  <td>0.0187</td> <td>0.2471</td>  <td>2.7241</td> \n",
       "</tr>\n",
       "<tr>\n",
       "  <th>age</th>               <td>0.0468</td>   <td>0.0169</td>  <td>2.7695</td>  <td>0.0056</td> <td>0.0137</td>  <td>0.0800</td> \n",
       "</tr>\n",
       "<tr>\n",
       "  <th>time</th>              <td>-0.0202</td>  <td>0.0030</td>  <td>-6.6398</td> <td>0.0000</td> <td>-0.0262</td> <td>-0.0143</td>\n",
       "</tr>\n",
       "</table>"
      ],
      "text/plain": [
       "<class 'statsmodels.iolib.summary2.Summary'>\n",
       "\"\"\"\n",
       "                         Results: Logit\n",
       "=================================================================\n",
       "Model:              Logit            Pseudo R-squared: 0.375     \n",
       "Dependent Variable: DEATH_EVENT      AIC:              191.0111  \n",
       "Date:               2021-08-10 19:46 BIC:              208.0693  \n",
       "No. Observations:   224              Log-Likelihood:   -90.506   \n",
       "Df Model:           4                LL-Null:          -144.78   \n",
       "Df Residuals:       219              LLR p-value:      1.4857e-22\n",
       "Converged:          1.0000           Scale:            1.0000    \n",
       "No. Iterations:     7.0000                                       \n",
       "-----------------------------------------------------------------\n",
       "                   Coef.  Std.Err.    z    P>|z|   [0.025  0.975]\n",
       "-----------------------------------------------------------------\n",
       "const             -0.7790   1.2512 -0.6227 0.5335 -3.2313  1.6732\n",
       "ejection_fraction -0.0584   0.0166 -3.5157 0.0004 -0.0910 -0.0259\n",
       "serum_creatinine   1.4856   0.6319  2.3510 0.0187  0.2471  2.7241\n",
       "age                0.0468   0.0169  2.7695 0.0056  0.0137  0.0800\n",
       "time              -0.0202   0.0030 -6.6398 0.0000 -0.0262 -0.0143\n",
       "=================================================================\n",
       "\n",
       "\"\"\""
      ]
     },
     "execution_count": 650,
     "metadata": {},
     "output_type": "execute_result"
    }
   ],
   "source": [
    "#remodeling logistic regression \n",
    "\n",
    "X_remodel = pd.DataFrame(heart_train[['ejection_fraction','serum_creatinine','age', 'time']])\n",
    "X_remodel = sm.add_constant(X_remodel)\n",
    "y_remodel = pd.DataFrame(heart_train[['DEATH_EVENT']])\n",
    "\n",
    "log_reg = sm.Logit(y_remodel, X_remodel).fit()\n",
    "log_reg.summary2()"
   ]
  },
  {
   "cell_type": "code",
   "execution_count": 651,
   "id": "alien-teens",
   "metadata": {},
   "outputs": [
    {
     "name": "stdout",
     "output_type": "stream",
     "text": [
      "Optimization terminated successfully.\n",
      "         Current function value: 0.193031\n",
      "         Iterations 9\n"
     ]
    },
    {
     "data": {
      "text/html": [
       "<table class=\"simpletable\">\n",
       "<tr>\n",
       "        <td>Model:</td>              <td>Logit</td>      <td>Pseudo R-squared:</td>    <td>0.650</td>  \n",
       "</tr>\n",
       "<tr>\n",
       "  <td>Dependent Variable:</td>    <td>DEATH_EVENT</td>         <td>AIC:</td>          <td>38.9547</td> \n",
       "</tr>\n",
       "<tr>\n",
       "         <td>Date:</td>        <td>2021-08-10 19:46</td>       <td>BIC:</td>          <td>50.5421</td> \n",
       "</tr>\n",
       "<tr>\n",
       "   <td>No. Observations:</td>         <td>75</td>         <td>Log-Likelihood:</td>    <td>-14.477</td> \n",
       "</tr>\n",
       "<tr>\n",
       "       <td>Df Model:</td>              <td>4</td>            <td>LL-Null:</td>        <td>-41.331</td> \n",
       "</tr>\n",
       "<tr>\n",
       "     <td>Df Residuals:</td>           <td>70</td>          <td>LLR p-value:</td>    <td>6.0602e-11</td>\n",
       "</tr>\n",
       "<tr>\n",
       "      <td>Converged:</td>           <td>1.0000</td>           <td>Scale:</td>         <td>1.0000</td>  \n",
       "</tr>\n",
       "<tr>\n",
       "    <td>No. Iterations:</td>        <td>9.0000</td>              <td></td>               <td></td>     \n",
       "</tr>\n",
       "</table>\n",
       "<table class=\"simpletable\">\n",
       "<tr>\n",
       "          <td></td>           <th>Coef.</th>  <th>Std.Err.</th>    <th>z</th>     <th>P>|z|</th> <th>[0.025</th>  <th>0.975]</th> \n",
       "</tr>\n",
       "<tr>\n",
       "  <th>const</th>             <td>2.4100</td>   <td>4.9896</td>  <td>0.4830</td>  <td>0.6291</td> <td>-7.3694</td> <td>12.1895</td>\n",
       "</tr>\n",
       "<tr>\n",
       "  <th>ejection_fraction</th> <td>-0.1813</td>  <td>0.0677</td>  <td>-2.6781</td> <td>0.0074</td> <td>-0.3141</td> <td>-0.0486</td>\n",
       "</tr>\n",
       "<tr>\n",
       "  <th>serum_creatinine</th>  <td>5.4197</td>   <td>2.7792</td>  <td>1.9501</td>  <td>0.0512</td> <td>-0.0275</td> <td>10.8669</td>\n",
       "</tr>\n",
       "<tr>\n",
       "  <th>age</th>               <td>-0.0018</td>  <td>0.0523</td>  <td>-0.0353</td> <td>0.9718</td> <td>-0.1044</td> <td>0.1007</td> \n",
       "</tr>\n",
       "<tr>\n",
       "  <th>time</th>              <td>-0.0328</td>  <td>0.0124</td>  <td>-2.6405</td> <td>0.0083</td> <td>-0.0571</td> <td>-0.0085</td>\n",
       "</tr>\n",
       "</table>"
      ],
      "text/plain": [
       "<class 'statsmodels.iolib.summary2.Summary'>\n",
       "\"\"\"\n",
       "                         Results: Logit\n",
       "=================================================================\n",
       "Model:              Logit            Pseudo R-squared: 0.650     \n",
       "Dependent Variable: DEATH_EVENT      AIC:              38.9547   \n",
       "Date:               2021-08-10 19:46 BIC:              50.5421   \n",
       "No. Observations:   75               Log-Likelihood:   -14.477   \n",
       "Df Model:           4                LL-Null:          -41.331   \n",
       "Df Residuals:       70               LLR p-value:      6.0602e-11\n",
       "Converged:          1.0000           Scale:            1.0000    \n",
       "No. Iterations:     9.0000                                       \n",
       "-----------------------------------------------------------------\n",
       "                   Coef.  Std.Err.    z    P>|z|   [0.025  0.975]\n",
       "-----------------------------------------------------------------\n",
       "const              2.4100   4.9896  0.4830 0.6291 -7.3694 12.1895\n",
       "ejection_fraction -0.1813   0.0677 -2.6781 0.0074 -0.3141 -0.0486\n",
       "serum_creatinine   5.4197   2.7792  1.9501 0.0512 -0.0275 10.8669\n",
       "age               -0.0018   0.0523 -0.0353 0.9718 -0.1044  0.1007\n",
       "time              -0.0328   0.0124 -2.6405 0.0083 -0.0571 -0.0085\n",
       "=================================================================\n",
       "\n",
       "\"\"\""
      ]
     },
     "execution_count": 651,
     "metadata": {},
     "output_type": "execute_result"
    }
   ],
   "source": [
    "X_test = pd.DataFrame(heart_test[['ejection_fraction','serum_creatinine','age', 'time']])\n",
    "X_test = sm.add_constant(X_test)\n",
    "y_test = pd.DataFrame(heart_test[['DEATH_EVENT']])\n",
    "#validating model in test data set \n",
    "log_reg_test = sm.Logit(y_test, X_test).fit()\n",
    "log_reg_test.summary2()"
   ]
  },
  {
   "cell_type": "markdown",
   "id": "latest-turning",
   "metadata": {},
   "source": [
    "We can look at the performance metrics using confusion_matrix. But first, we need to make predictions using the model: the outputs given back by the model are probabilities of the instance being the positive class. If probability > 0.5, the instance is considered the positive class."
   ]
  },
  {
   "cell_type": "code",
   "execution_count": 652,
   "id": "exclusive-chrome",
   "metadata": {},
   "outputs": [
    {
     "data": {
      "text/plain": [
       "268    0.011058\n",
       "240    0.129470\n",
       "278    0.015835\n",
       "176    0.201871\n",
       "202    0.031245\n",
       "dtype: float64"
      ]
     },
     "execution_count": 652,
     "metadata": {},
     "output_type": "execute_result"
    }
   ],
   "source": [
    "#obtaining prediction using logistic regression model\n",
    "predictions_prob = log_reg.predict(X_test)\n",
    "predictions_prob.head()"
   ]
  },
  {
   "cell_type": "markdown",
   "id": "built-chuck",
   "metadata": {},
   "source": []
  },
  {
   "cell_type": "markdown",
   "id": "lesser-length",
   "metadata": {},
   "source": [
    "\n",
    "\n",
    "\n",
    "\n",
    "#### Random Forest\n",
    "\n",
    "\n",
    "\n"
   ]
  },
  {
   "cell_type": "code",
   "execution_count": 653,
   "id": "mathematical-field",
   "metadata": {},
   "outputs": [
    {
     "ename": "NameError",
     "evalue": "name 'Y' is not defined",
     "output_type": "error",
     "traceback": [
      "\u001b[0;31m---------------------------------------------------------------------------\u001b[0m",
      "\u001b[0;31mNameError\u001b[0m                                 Traceback (most recent call last)",
      "\u001b[0;32m<ipython-input-653-4e32fcc11f62>\u001b[0m in \u001b[0;36m<module>\u001b[0;34m\u001b[0m\n\u001b[1;32m      1\u001b[0m \u001b[0;32mfrom\u001b[0m \u001b[0msklearn\u001b[0m\u001b[0;34m.\u001b[0m\u001b[0mensemble\u001b[0m \u001b[0;32mimport\u001b[0m \u001b[0mRandomForestClassifier\u001b[0m\u001b[0;34m\u001b[0m\u001b[0;34m\u001b[0m\u001b[0m\n\u001b[0;32m----> 2\u001b[0;31m \u001b[0mrfy\u001b[0m \u001b[0;34m=\u001b[0m \u001b[0mnp\u001b[0m\u001b[0;34m.\u001b[0m\u001b[0mravel\u001b[0m\u001b[0;34m(\u001b[0m\u001b[0mY\u001b[0m\u001b[0;34m)\u001b[0m\u001b[0;34m\u001b[0m\u001b[0;34m\u001b[0m\u001b[0m\n\u001b[0m\u001b[1;32m      3\u001b[0m \u001b[0;34m\u001b[0m\u001b[0m\n\u001b[1;32m      4\u001b[0m \u001b[0mrand_forest\u001b[0m \u001b[0;34m=\u001b[0m \u001b[0mRandomForestClassifier\u001b[0m\u001b[0;34m(\u001b[0m\u001b[0mn_estimators\u001b[0m \u001b[0;34m=\u001b[0m \u001b[0;36m100\u001b[0m\u001b[0;34m,\u001b[0m\u001b[0mcriterion\u001b[0m\u001b[0;34m=\u001b[0m\u001b[0;34m\"gini\"\u001b[0m\u001b[0;34m)\u001b[0m\u001b[0;34m.\u001b[0m\u001b[0mfit\u001b[0m\u001b[0;34m(\u001b[0m\u001b[0mtrain_X\u001b[0m\u001b[0;34m,\u001b[0m\u001b[0mrfy\u001b[0m\u001b[0;34m)\u001b[0m\u001b[0;34m\u001b[0m\u001b[0;34m\u001b[0m\u001b[0m\n\u001b[1;32m      5\u001b[0m \u001b[0mpred_rf_train\u001b[0m\u001b[0;34m=\u001b[0m \u001b[0mrand_forest\u001b[0m\u001b[0;34m.\u001b[0m\u001b[0mpredict\u001b[0m\u001b[0;34m(\u001b[0m\u001b[0mtrain_X\u001b[0m\u001b[0;34m)\u001b[0m\u001b[0;34m\u001b[0m\u001b[0;34m\u001b[0m\u001b[0m\n",
      "\u001b[0;31mNameError\u001b[0m: name 'Y' is not defined"
     ]
    }
   ],
   "source": [
    "from sklearn.ensemble import RandomForestClassifier\n",
    "rfy = np.ravel(Y)\n",
    "\n",
    "rand_forest = RandomForestClassifier(n_estimators = 100,criterion=\"gini\").fit(train_X,rfy)\n",
    "pred_rf_train= rand_forest.predict(train_X)"
   ]
  },
  {
   "cell_type": "code",
   "execution_count": null,
   "id": "varied-victor",
   "metadata": {},
   "outputs": [],
   "source": [
    "#Use random forest model to predict on test data\n",
    "pred_rf_test = rand_forest.predict(test_X)\n",
    "\n",
    "#Contingency table \n",
    "contingency_rf = pd.crosstab(heart_test['DEATH_EVENT'],pred_rf_test)\n",
    "\n",
    "#Total sum per column: \n",
    "contingency_rf.loc['Total',:]= contingency_rf.sum(axis=0)\n",
    "\n",
    "#Total sum per row: \n",
    "contingency_rf.loc[:,'Total'] = contingency_rf.sum(axis=1)\n",
    "contingency_rf"
   ]
  },
  {
   "cell_type": "markdown",
   "id": "aboriginal-round",
   "metadata": {},
   "source": [
    "\n",
    "\n",
    "\n",
    "#### Naive Bayes\n",
    "\n",
    "\n"
   ]
  },
  {
   "cell_type": "code",
   "execution_count": null,
   "id": "adapted-spencer",
   "metadata": {},
   "outputs": [],
   "source": [
    "from sklearn.naive_bayes import MultinomialNB\n",
    "\n",
    "naive_bayes = MultinomialNB().fit(train_X, train_y)"
   ]
  },
  {
   "cell_type": "code",
   "execution_count": null,
   "id": "superb-microphone",
   "metadata": {},
   "outputs": [],
   "source": [
    "pred_naiv = naive_bayes.predict(test_X)\n",
    "\n",
    "#Contingency table \n",
    "contingency_nb = pd.crosstab(heart_test['DEATH_EVENT'],pred_naiv)\n",
    "\n",
    "#Total sum per column: \n",
    "contingency_nb.loc['Total',:]= contingency_nb.sum(axis=0)\n",
    "\n",
    "#Total sum per row: \n",
    "contingency_nb.loc[:,'Total'] = contingency_nb.sum(axis=1)\n",
    "contingency_nb\n"
   ]
  },
  {
   "cell_type": "markdown",
   "id": "separate-router",
   "metadata": {},
   "source": [
    "\n",
    "\n",
    "#### Neural Network\n",
    "\n"
   ]
  },
  {
   "cell_type": "code",
   "execution_count": 654,
   "id": "plastic-biography",
   "metadata": {},
   "outputs": [
    {
     "name": "stdout",
     "output_type": "stream",
     "text": [
      "Epoch 1/10\n",
      "7/7 [==============================] - 2s 13ms/step - loss: 0.6597 - accuracy: 0.6595\n",
      "Epoch 2/10\n",
      "7/7 [==============================] - 0s 3ms/step - loss: 0.6628 - accuracy: 0.6351\n",
      "Epoch 3/10\n",
      "7/7 [==============================] - 0s 3ms/step - loss: 0.6558 - accuracy: 0.6564\n",
      "Epoch 4/10\n",
      "7/7 [==============================] - 0s 3ms/step - loss: 0.6564 - accuracy: 0.6553\n",
      "Epoch 5/10\n",
      "7/7 [==============================] - 0s 2ms/step - loss: 0.6494 - accuracy: 0.6721\n",
      "Epoch 6/10\n",
      "7/7 [==============================] - 0s 3ms/step - loss: 0.6469 - accuracy: 0.6556\n",
      "Epoch 7/10\n",
      "7/7 [==============================] - 0s 2ms/step - loss: 0.6489 - accuracy: 0.6514\n",
      "Epoch 8/10\n",
      "7/7 [==============================] - 0s 5ms/step - loss: 0.6513 - accuracy: 0.6375\n",
      "Epoch 9/10\n",
      "7/7 [==============================] - 0s 3ms/step - loss: 0.6375 - accuracy: 0.6714\n",
      "Epoch 10/10\n",
      "7/7 [==============================] - 0s 5ms/step - loss: 0.6460 - accuracy: 0.6503\n",
      "7/7 [==============================] - 0s 4ms/step - loss: 0.6439 - accuracy: 0.6518\n",
      "Accuracy: 65.18\n"
     ]
    }
   ],
   "source": [
    "#train_y = heart_train[['DEATH_EVENT']]\n",
    "#all categorical variables from thr dataframe\n",
    "#train_X = heart_train[['ejection_fraction','serum_creatinine','age', 'time']]\n",
    "\n",
    "import pandas as pd \n",
    "import numpy as np \n",
    "import warnings \n",
    "\n",
    "from keras.models import Sequential \n",
    "from keras.layers import Dense\n",
    "\n",
    "#normilzation\n",
    "\n",
    "age_norm = (heart_train['age']-heart_train['age'].min())/(heart_train['age'].max()-heart_train['age'].min())\n",
    "time_norm= (heart_train['time']-heart_train['time'].min())/(heart_train['time'].max()-heart_train['time'].min())\n",
    "ejection_fraction_norm= (heart_train['ejection_fraction']-heart_train['ejection_fraction'].min())/(heart_train['ejection_fraction'].max()-heart_train['ejection_fraction'].min())\n",
    "serum_creatinine_norm= (heart_train['serum_creatinine']-heart_train['serum_creatinine'].min())/(heart_train['serum_creatinine'].max()-heart_train['serum_creatinine'].min())\n",
    "\n",
    "age_norm_1d = np.array(age_norm).reshape(-1,1)\n",
    "time_norm_1d = np.array(time_norm).reshape(-1,1)\n",
    "ejection_fraction_norm_1d = np.array(ejection_fraction_norm).reshape(-1,1)\n",
    "serum_creatinine_norm_1d = np.array(serum_creatinine_norm).reshape(-1,1)\n",
    "\n",
    "\n",
    "\n",
    "nn_X = np.concatenate ((age_norm_1d ,time_norm_1d,ejection_fraction_norm_1d,serum_creatinine_norm_1d),axis=1)\n",
    "nn_y= train_y \n",
    "\n",
    "\n",
    "# define the keras model\n",
    "model = Sequential()\n",
    "model.add(Dense(1, input_dim=nn_X.shape[1], activation='relu'))\n",
    "model.add(Dense(1, activation='sigmoid'))\n",
    "\n",
    "# compile the keras model\n",
    "model.compile(loss='binary_crossentropy', optimizer='adam', metrics=['accuracy'])\n",
    "\n",
    "\n",
    "\n",
    "# fit the keras model on the dataset\n",
    "model.fit(nn_X, nn_y, epochs=10, batch_size=32)\n",
    "\n",
    "\n",
    "# evaluate the keras model\n",
    "_, accuracy = model.evaluate(nn_X, nn_y)\n",
    "print('Accuracy: %.2f' % (accuracy*100))\n",
    "\n"
   ]
  },
  {
   "cell_type": "code",
   "execution_count": 655,
   "id": "distant-capability",
   "metadata": {},
   "outputs": [
    {
     "data": {
      "image/png": "[encoded data removed]",
      "text/plain": [
       "<IPython.core.display.Image object>"
      ]
     },
     "execution_count": 655,
     "metadata": {},
     "output_type": "execute_result"
    }
   ],
   "source": [
    "import os \n",
    "os.environ[\"PATH\"] += os.pathsep + '/Users/Blaven/miniconda3/envs/ADS500B/lib/python3.9/site-packages'\n",
    "from keras.utils.vis_utils import plot_model\n",
    "plot_model(model,show_shapes = True , show_layer_names = True)\n"
   ]
  },
  {
   "cell_type": "code",
   "execution_count": 658,
   "id": "latter-military",
   "metadata": {},
   "outputs": [
    {
     "name": "stdout",
     "output_type": "stream",
     "text": [
      "Epoch 1/10\n",
      "3/3 [==============================] - 1s 2ms/step - loss: 0.6857 - accuracy: 0.7550\n",
      "Epoch 2/10\n",
      "3/3 [==============================] - 0s 7ms/step - loss: 0.6829 - accuracy: 0.7277\n",
      "Epoch 3/10\n",
      "3/3 [==============================] - 0s 5ms/step - loss: 0.6822 - accuracy: 0.7745\n",
      "Epoch 4/10\n",
      "3/3 [==============================] - 0s 12ms/step - loss: 0.6788 - accuracy: 0.7667\n",
      "Epoch 5/10\n",
      "3/3 [==============================] - 0s 2ms/step - loss: 0.6780 - accuracy: 0.7706\n",
      "Epoch 6/10\n",
      "3/3 [==============================] - 0s 7ms/step - loss: 0.6786 - accuracy: 0.7706\n",
      "Epoch 7/10\n",
      "3/3 [==============================] - 0s 7ms/step - loss: 0.6775 - accuracy: 0.7355\n",
      "Epoch 8/10\n",
      "3/3 [==============================] - 0s 2ms/step - loss: 0.6762 - accuracy: 0.7628\n",
      "Epoch 9/10\n",
      "3/3 [==============================] - 0s 7ms/step - loss: 0.6735 - accuracy: 0.7550\n",
      "Epoch 10/10\n",
      "3/3 [==============================] - 0s 4ms/step - loss: 0.6732 - accuracy: 0.7550\n",
      "3/3 [==============================] - 0s 2ms/step - loss: 0.6719 - accuracy: 0.7600\n",
      "Accuracy: 76.00\n"
     ]
    }
   ],
   "source": [
    "test_age_norm = (heart_test['age']-heart_test['age'].min())/(heart_test['age'].max()-heart_test['age'].min())\n",
    "test_time_norm= (heart_test['time']-heart_test['time'].min())/(heart_test['time'].max()-heart_test['time'].min())\n",
    "test_ejection_fraction_norm= (heart_test['ejection_fraction']-heart_test['ejection_fraction'].min())/(heart_test['ejection_fraction'].max()-heart_test['ejection_fraction'].min())\n",
    "test_serum_creatinine_norm= (heart_test['serum_creatinine']-heart_test['serum_creatinine'].min())/(heart_test['serum_creatinine'].max()-heart_test['serum_creatinine'].min())\n",
    "\n",
    "test_age_norm_1d = np.array(test_age_norm).reshape(-1,1)\n",
    "test_time_norm_1d = np.array(test_time_norm).reshape(-1,1)\n",
    "test_ejection_fraction_norm_1d = np.array(test_ejection_fraction_norm).reshape(-1,1)\n",
    "test_serum_creatinine_norm_1d = np.array(test_serum_creatinine_norm).reshape(-1,1)\n",
    "\n",
    "\n",
    "\n",
    "test2_X =np.concatenate((test_age_norm_1d ,test_time_norm_1d,test_ejection_fraction_norm_1d,test_serum_creatinine_norm_1d),axis=1)\n",
    "test2_y= test_y \n",
    "\n",
    "\n",
    "# define the keras model\n",
    "model_2 = Sequential()\n",
    "model_2.add(Dense(1, input_dim=test2_X.shape[1], activation='relu'))\n",
    "model_2.add(Dense(1, activation='sigmoid'))\n",
    "\n",
    "# compile the keras model\n",
    "model_2.compile(loss='binary_crossentropy', optimizer='adam', metrics=['accuracy'])\n",
    "\n",
    "\n",
    "\n",
    "# fit the keras model on the dataset\n",
    "model_2.fit(test2_X, test2_y, epochs=10, batch_size=32)\n",
    "\n",
    "\n",
    "# evaluate the keras model\n",
    "_,accuracy_2 = model_2.evaluate(test2_X,test2_y)\n",
    "print('Accuracy: %.2f' % (accuracy_2*100))"
   ]
  },
  {
   "cell_type": "code",
   "execution_count": 659,
   "id": "spare-commerce",
   "metadata": {},
   "outputs": [
    {
     "data": {
      "text/plain": [
       "array([[0.4420011 ],\n",
       "       [0.49187988],\n",
       "       [0.4027072 ],\n",
       "       [0.4929333 ],\n",
       "       [0.4929333 ],\n",
       "       [0.4929333 ],\n",
       "       [0.4929333 ],\n",
       "       [0.4243324 ],\n",
       "       [0.4929333 ],\n",
       "       [0.4929333 ],\n",
       "       [0.48086902],\n",
       "       [0.4929333 ],\n",
       "       [0.4929333 ],\n",
       "       [0.4929333 ],\n",
       "       [0.4929333 ],\n",
       "       [0.49219537],\n",
       "       [0.4657454 ],\n",
       "       [0.4929333 ],\n",
       "       [0.4929333 ],\n",
       "       [0.4929333 ],\n",
       "       [0.4929333 ],\n",
       "       [0.4929333 ],\n",
       "       [0.4929333 ],\n",
       "       [0.4929333 ],\n",
       "       [0.4929333 ],\n",
       "       [0.4929333 ],\n",
       "       [0.48004594],\n",
       "       [0.4929333 ],\n",
       "       [0.4929333 ],\n",
       "       [0.4929333 ],\n",
       "       [0.4929333 ],\n",
       "       [0.4929333 ],\n",
       "       [0.4929333 ],\n",
       "       [0.45699474],\n",
       "       [0.4929333 ],\n",
       "       [0.4929333 ],\n",
       "       [0.4929333 ],\n",
       "       [0.47287992],\n",
       "       [0.4929333 ],\n",
       "       [0.4929333 ],\n",
       "       [0.4929333 ],\n",
       "       [0.4929333 ],\n",
       "       [0.4929333 ],\n",
       "       [0.46499512],\n",
       "       [0.4850839 ],\n",
       "       [0.4929333 ],\n",
       "       [0.4929333 ],\n",
       "       [0.48480618],\n",
       "       [0.4929333 ],\n",
       "       [0.4929333 ],\n",
       "       [0.4929333 ],\n",
       "       [0.4929333 ],\n",
       "       [0.4929333 ],\n",
       "       [0.4929333 ],\n",
       "       [0.4929333 ],\n",
       "       [0.4929333 ],\n",
       "       [0.47269148],\n",
       "       [0.4929333 ],\n",
       "       [0.4929333 ],\n",
       "       [0.4665041 ],\n",
       "       [0.4929333 ],\n",
       "       [0.4929333 ],\n",
       "       [0.4929333 ],\n",
       "       [0.4636556 ],\n",
       "       [0.4929333 ],\n",
       "       [0.4929333 ],\n",
       "       [0.4929333 ],\n",
       "       [0.4929333 ],\n",
       "       [0.4007275 ],\n",
       "       [0.44794345],\n",
       "       [0.4929333 ],\n",
       "       [0.4929333 ],\n",
       "       [0.49244812],\n",
       "       [0.4929333 ],\n",
       "       [0.4929333 ]], dtype=float32)"
      ]
     },
     "execution_count": 659,
     "metadata": {},
     "output_type": "execute_result"
    }
   ],
   "source": [
    "#\n",
    "hi = model_2.predict(test2_X)\n",
    "hi"
   ]
  },
  {
   "cell_type": "code",
   "execution_count": null,
   "id": "attempted-raising",
   "metadata": {},
   "outputs": [],
   "source": [
    "library(nnet)\n",
    "library(NeuralNetTools)\n",
    "\n",
    "url = 'https://raw.githubusercontent.com/dingyiduan7/ADS-502/main/ADS%20502%20Final_Project/heart_failure_clinical_records_dataset.csv'\n",
    "\n",
    "\n",
    "heart <- read.csv(file=url)\n",
    "\n",
    "\n",
    "#heart_train, heart_test = train_test_split(heart, test_size = 0.25, random_state = 7)\n",
    "set.seed(7)\n",
    "n<- dim (heart)[1]\n",
    "train_ind <-  runif(n) <0.75\n",
    "heart_train <- heart[train_ind,]\n",
    "heart_test <- heart[!train_ind,]\n",
    "\n",
    "\n",
    "\n",
    "\n",
    "#normalize age and time \n",
    "heart_train$age.mm <- ((heart_train$age - min(heart_train$age))/(max(heart_train$age) -min(heart_train$age)))\n",
    "heart_train$time.mm <- ((heart_train$time - min(heart_train$time))/(max(heart_train$time) -min(heart_train$time)))\n",
    "heart_train$ejection_fraction.mm <- ((heart_train$ejection_fraction - min(heart_train$ejection_fraction))/(max(heart_train$ejection_fraction) -min(heart_train$ejection_fraction)))\n",
    "heart_train$serum_creatinine.mm <- ((heart_train$serum_creatinine - min(heart_train$serum_creatinine))/(max(heart_train$serum_creatinine) -min(heart_train$serum_creatinine)))\n",
    "\n",
    "\n",
    "nnet02 <- nnet (DEATH_EVENT ~ ejection_fraction+serum_creatinine+ time+ age , heart_train, size =2)\n",
    "X_train <-subset(x=heart_train,select = c(\"age\",\"time\",\"ejection_fraction\",\"serum_creatinine\"))\n",
    "heart_train$pred_nnet02 <- predict(object = nnet02, newdata=X_train)\n",
    "heart_train$pred_nnet02 <- (heart_train$pred_nnet02 > 0.5)*1\n",
    "\n",
    "plotnet(nnet02)\n",
    "\n",
    "\n",
    "\n",
    "\n"
   ]
  },
  {
   "cell_type": "code",
   "execution_count": null,
   "id": "facial-packet",
   "metadata": {},
   "outputs": [],
   "source": [
    "library(caret)\n",
    "\n",
    "heart_test$ejection_fraction<- as.factor(heart_test$ejection_fraction)\n",
    "heart_test$serum_creatinine<- as.factor(heart_test$serum_creatinine)\n",
    "\n",
    "\n",
    "    \n",
    "X_test <- subset(x= heart_test, select = c(\"ejection_fraction\",\"serum_creatinine\"))\n",
    "table_nnet <- table(heart_train$DEATH_EVENT,heart_train$pred_nnet02)\n",
    "table_nnet <- addmargins (A = table_nnet,FUN = list(Total=sum),quiet = TRUE);\n",
    "\n",
    "table_nnet"
   ]
  },
  {
   "cell_type": "code",
   "execution_count": null,
   "id": "temporal-brighton",
   "metadata": {},
   "outputs": [],
   "source": [
    "heart_train[c('DEATH_EVENT','pred_nnet02')] <-lapply(\n",
    "heart_train  [c('DEATH_EVENT','pred_nnet02')], as.factor)\n",
    "confusionMatrix(heart_train$pred_nnet02,heart_train$DEATH_EVENT,positive = \"1\")"
   ]
  }
 ],
 "metadata": {
  "kernelspec": {
   "display_name": "Python 3",
   "language": "python",
   "name": "python3"
  },
  "language_info": {
   "codemirror_mode": {
    "name": "ipython",
    "version": 3
   },
   "file_extension": ".py",
   "mimetype": "text/x-python",
   "name": "python",
   "nbconvert_exporter": "python",
   "pygments_lexer": "ipython3",
   "version": "3.9.2"
  }
 },
 "nbformat": 4,
 "nbformat_minor": 5
}
